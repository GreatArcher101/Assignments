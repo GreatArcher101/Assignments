{
 "cells": [
  {
   "cell_type": "markdown",
   "id": "4c5020f6-f6c2-4cf7-a9a9-d8c31b148c9d",
   "metadata": {},
   "source": [
    "## Answer 1"
   ]
  },
  {
   "cell_type": "markdown",
   "id": "1d75dd23-abf6-4341-91ff-4362ff091dfb",
   "metadata": {},
   "source": [
    "An Exception is an error that happens during the execution of a program. Whenever there is an error, Python generates an exception that could be handled. It basically prevents the program from getting crashed."
   ]
  },
  {
   "cell_type": "markdown",
   "id": "9a542e3e-5242-4c2d-a725-754d98d04695",
   "metadata": {},
   "source": [
    "__SYNTAX ERROR__ occurs when the structure of a program does not conform to the rules of the programming language. Syntax errors are usually detected by the compiler or interpreter when the program is being compiled or executed, and they prevent the program from running. Syntax errors are usually caused by mistakes in the source code, such as typos, omissions, or incorrect use of syntax."
   ]
  },
  {
   "cell_type": "markdown",
   "id": "103418d9-c7f4-499a-8f5b-92d960de8b2a",
   "metadata": {},
   "source": [
    "__EXCEPTION__ is an abnormal event that occurs during the execution of a program. Even if a statement or expression is syntactically correct, it may cause an error when an attempt is made to execute it. Exceptions are usually caused by runtime errors, such as dividing by zero, or trying to access a file that does not exist. Exceptions are not syntax errors, but they can still prevent the program from running if they are not handled properly."
   ]
  },
  {
   "cell_type": "markdown",
   "id": "0b34c50d-8590-420f-8c7a-1c30bf609ee8",
   "metadata": {},
   "source": [
    "## Answer 2"
   ]
  },
  {
   "cell_type": "markdown",
   "id": "f658bd06-aef0-4a3d-ab24-63be8e29f601",
   "metadata": {},
   "source": [
    "If an exception is not handled, the runtime system will abort the program (i.e. crash) and an exception message will print to the console."
   ]
  },
  {
   "cell_type": "code",
   "execution_count": 17,
   "id": "4a97b55d-bf38-4399-98b9-4d7c4dca349a",
   "metadata": {},
   "outputs": [
    {
     "ename": "ZeroDivisionError",
     "evalue": "division by zero",
     "output_type": "error",
     "traceback": [
      "\u001b[0;31m---------------------------------------------------------------------------\u001b[0m",
      "\u001b[0;31mZeroDivisionError\u001b[0m                         Traceback (most recent call last)",
      "Cell \u001b[0;32mIn[17], line 2\u001b[0m\n\u001b[1;32m      1\u001b[0m a\u001b[38;5;241m=\u001b[39m\u001b[38;5;241m5\u001b[39m\n\u001b[0;32m----> 2\u001b[0m \u001b[38;5;28mprint\u001b[39m(\u001b[43ma\u001b[49m\u001b[38;5;241;43m/\u001b[39;49m\u001b[38;5;241;43m0\u001b[39;49m)\n",
      "\u001b[0;31mZeroDivisionError\u001b[0m: division by zero"
     ]
    }
   ],
   "source": [
    "a=5\n",
    "print(a/0)   "
   ]
  },
  {
   "cell_type": "markdown",
   "id": "6ec1b8c5-52b1-420b-b71d-2007d36890b4",
   "metadata": {},
   "source": [
    "Here exception message \"division by zero\" is raised."
   ]
  },
  {
   "cell_type": "markdown",
   "id": "20930645-1251-4241-a780-32594eca21a0",
   "metadata": {},
   "source": [
    "## Answer 3"
   ]
  },
  {
   "cell_type": "markdown",
   "id": "e9c43635-9957-4654-bccd-5790f67e0875",
   "metadata": {},
   "source": [
    "Try and except blocks are used to catch and handle errors in python."
   ]
  },
  {
   "cell_type": "code",
   "execution_count": 25,
   "id": "84d4256a-bcef-47d7-bb46-c86536a4cd27",
   "metadata": {},
   "outputs": [
    {
     "name": "stdout",
     "output_type": "stream",
     "text": [
      "list index out of range\n"
     ]
    }
   ],
   "source": [
    "try:\n",
    "    # l is a list of 0 to 4 index range\n",
    "    l=[1,2,3,4,5] \n",
    "     # trying to get 5th Index\n",
    "    b=l[5]         \n",
    "#except block, IndexError\n",
    "except IndexError as e: \n",
    "    print(e)\n",
    "#if try block executes then else will also execute\n",
    "else:\n",
    "    print(\"Element is {}\".format(b))\n",
    "    "
   ]
  },
  {
   "cell_type": "markdown",
   "id": "1482a4cd-fb36-4e5e-a02f-85f636b03a41",
   "metadata": {},
   "source": [
    "## Answer 4"
   ]
  },
  {
   "cell_type": "markdown",
   "id": "36f2ccc5-95e7-4792-a042-a6379d4cebcf",
   "metadata": {},
   "source": [
    "__try & except__ The try block let us test a block of code for errors. The except block let us handle the error. "
   ]
  },
  {
   "cell_type": "code",
   "execution_count": 45,
   "id": "cfd24edf-aea5-45ba-bbee-e278291ea0e9",
   "metadata": {},
   "outputs": [
    {
     "name": "stdin",
     "output_type": "stream",
     "text": [
      "your number  90\n"
     ]
    },
    {
     "name": "stdout",
     "output_type": "stream",
     "text": [
      "My number is 100 divided by your number = 1\n"
     ]
    }
   ],
   "source": [
    "#try block\n",
    "try:\n",
    "    a=int(input(\"your number \"))\n",
    "    num=100/a\n",
    "    print(\"My number is 100 divided by your number = {}\".format(int(num)))\n",
    "\n",
    "#except block, it get activate when user will type zero as your number\n",
    "except ZeroDivisionError as e:\n",
    "    print(\"Can't be divided by zero\",e)"
   ]
  },
  {
   "cell_type": "code",
   "execution_count": null,
   "id": "aa0c13e7-9b9e-4b4c-b14c-a026d438d789",
   "metadata": {},
   "outputs": [],
   "source": []
  },
  {
   "cell_type": "markdown",
   "id": "a1247118-7f97-4a6f-b570-911789ef1487",
   "metadata": {},
   "source": [
    "__else__ The else block let us execute code when there is no error. "
   ]
  },
  {
   "cell_type": "code",
   "execution_count": 49,
   "id": "82016bd6-ec0f-4554-a3cb-8bacedf54758",
   "metadata": {},
   "outputs": [
    {
     "name": "stdin",
     "output_type": "stream",
     "text": [
      "your salary  90000\n"
     ]
    },
    {
     "name": "stdout",
     "output_type": "stream",
     "text": [
      "Budget Enough, pack your bags, going to Bangkok!!!\n"
     ]
    }
   ],
   "source": [
    "# try block\n",
    "try:\n",
    "    # asking for an integer\n",
    "    a= int( input ('your salary ') )\n",
    "    my_salary= 50000\n",
    "    total_salary= my_salary + a\n",
    "    \n",
    "# except block it will get activate if user inputs a string \n",
    "except ValueError as e:\n",
    "    print (\"Type an integer\", e)\n",
    "    \n",
    "#else block, it will execute if try block execute \n",
    "else:\n",
    "    if total_salary < 75000:\n",
    "        print (\"Budget short, let's go to Goa\")\n",
    "    else:\n",
    "        print (\"Budget Enough, pack your bags, going to Bangkok!!!\")"
   ]
  },
  {
   "cell_type": "code",
   "execution_count": null,
   "id": "be8bd331-e0b3-4dd1-b291-1760089785f0",
   "metadata": {},
   "outputs": [],
   "source": []
  },
  {
   "cell_type": "markdown",
   "id": "dcd2cc6b-c9e1-4a69-b5ca-980b10dc4289",
   "metadata": {},
   "source": [
    "__finally__ The finally block let us execute code, regardless of the result of the try- and except blocks."
   ]
  },
  {
   "cell_type": "code",
   "execution_count": 65,
   "id": "86d0fddd-3e5f-43af-a88e-52cb8dacd2a1",
   "metadata": {},
   "outputs": [
    {
     "name": "stdout",
     "output_type": "stream",
     "text": [
      "dict_keys(['full_name', 'age', 'class', 'percent', 'pcm%'])\n"
     ]
    },
    {
     "name": "stdin",
     "output_type": "stream",
     "text": [
      "type detail you want to know  pcm%\n"
     ]
    },
    {
     "name": "stdout",
     "output_type": "stream",
     "text": [
      "The pcm% of ayush is 92\n",
      "He's the son of Trustee\n"
     ]
    }
   ],
   "source": [
    "try:\n",
    "    student={\"full_name\": \"Ayush Soni\", \"age\": 16, \"class\": \"12th\", \"percent\":83, \"pcm%\": 92,}\n",
    "    print(student.keys())\n",
    "    a=input (\"type detail you want to know \")\n",
    "    detail= student[a]\n",
    "except KeyError as e:\n",
    "    print(\"type the correct key,\",e,\"is wrong key\" )\n",
    "else:\n",
    "    print (\"The {} of ayush is {}\".format(a,detail))\n",
    "finally:\n",
    "    print(\"He's the son of Trustee\")"
   ]
  },
  {
   "cell_type": "markdown",
   "id": "fbd89e7b-b7fd-44d4-8867-bf16faca15e8",
   "metadata": {},
   "source": [
    "## Answer 5"
   ]
  },
  {
   "cell_type": "markdown",
   "id": "318a7dde-e46a-4810-9b92-98e517f119db",
   "metadata": {},
   "source": [
    "In Python, we can define our own custom exceptions, which are exceptions that we create yourself based on our specific use case or requirements.To define a custom exception in Python, you can create a new class that inherits from the built-in Exception class or any of its subclasses."
   ]
  },
  {
   "cell_type": "markdown",
   "id": "cabec92e-8c60-4e1c-aa79-a74e609084b7",
   "metadata": {},
   "source": [
    "Custom exceptions are useful in Python for a few reasons:\n",
    "\n",
    "\n",
    "__Better error handling:__ Custom exceptions provide a more specific way to handle errors in your code. Instead of relying on generic exceptions like ValueError or TypeError, you can create custom exceptions that are tailored to the specific error conditions that might arise in your code.\n",
    "\n",
    "__More informative error messages:__ Custom exceptions can provide more detailed error messages that help you quickly identify and troubleshoot errors in your code. By defining your own exception classes, you can include specific information about the error that occurred, such as the location in the code where the error occurred or the reason for the error.\n",
    "\n",
    "__Code readability:__ Custom exceptions can make your code more readable and easier to understand. By defining your own exception classes with descriptive names, you can clearly communicate to other developers what kind of errors might occur in your code and how to handle them.\n",
    "\n",
    "__Modularity:__ Custom exceptions can help you modularize your code and improve its maintainability. By encapsulating error handling logic within custom exceptions, you can separate it from the rest of your code and make it easier to modify or reuse in the future.\n",
    "\n",
    "Overall, using custom exceptions in your Python code can make your code more robust, easier to read, and simpler to maintain."
   ]
  },
  {
   "cell_type": "code",
   "execution_count": 81,
   "id": "1a8ea5b9-4c98-4d2c-96f0-a3b64db9a4a4",
   "metadata": {},
   "outputs": [
    {
     "name": "stdout",
     "output_type": "stream",
     "text": [
      "can't divide by zero\n"
     ]
    }
   ],
   "source": [
    "# custom class inherited by Exception(super class)\n",
    "class validation(Exception):\n",
    "    def __init__(self,message):\n",
    "        self.message=message\n",
    "        \n",
    "# custom function to check exception\n",
    "def valid(x,y):\n",
    "    if y==0:\n",
    "        raise validation(\"can't divide by zero\")\n",
    "    return x/y\n",
    "        \n",
    "# try block\n",
    "try:\n",
    "    result=valid(10,0)\n",
    "    \n",
    "#except block, working for validation class \n",
    "except validation as e:\n",
    "    print(e)\n",
    "    \n",
    "else:\n",
    "    print(result)"
   ]
  },
  {
   "cell_type": "markdown",
   "id": "ee3e2484-9c87-4dc4-ab7f-0c6894bcab17",
   "metadata": {},
   "source": [
    "## Answer 6"
   ]
  },
  {
   "cell_type": "code",
   "execution_count": 71,
   "id": "44a08338-cbf4-4e8f-a126-3720d1e4a3d7",
   "metadata": {},
   "outputs": [
    {
     "name": "stdin",
     "output_type": "stream",
     "text": [
      "Type your maths marks  90\n"
     ]
    },
    {
     "name": "stdout",
     "output_type": "stream",
     "text": [
      "valid marks\n"
     ]
    }
   ],
   "source": [
    "# custom class inherited by Exception(super class)\n",
    "class validation(Exception):\n",
    "    def __init__(self, msg):\n",
    "        self.msg=msg\n",
    "        \n",
    "# custom function to check exception\n",
    "def valid_marks(marks):\n",
    "    if marks>100:\n",
    "        raise validation(\"Type correct value\")\n",
    "    elif marks<0:\n",
    "        raise validation(\"Type correct value\")\n",
    "    else:\n",
    "        raise validation(\"valid marks\")\n",
    "\n",
    "# try block\n",
    "try:\n",
    "    maths_marks= int(input(\"Type your maths marks \"))\n",
    "    valid_marks(maths_marks)\n",
    "\n",
    "#except block, working for validation class \n",
    "except validation as e:\n",
    "    print(e)"
   ]
  }
 ],
 "metadata": {
  "kernelspec": {
   "display_name": "Python 3 (ipykernel)",
   "language": "python",
   "name": "python3"
  },
  "language_info": {
   "codemirror_mode": {
    "name": "ipython",
    "version": 3
   },
   "file_extension": ".py",
   "mimetype": "text/x-python",
   "name": "python",
   "nbconvert_exporter": "python",
   "pygments_lexer": "ipython3",
   "version": "3.10.8"
  }
 },
 "nbformat": 4,
 "nbformat_minor": 5
}
