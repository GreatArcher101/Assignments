{
 "cells": [
  {
   "cell_type": "markdown",
   "id": "f3e17f86-e2fa-4bbd-9de9-d4e1d5c647a9",
   "metadata": {},
   "source": [
    "## Answer 1"
   ]
  },
  {
   "cell_type": "markdown",
   "id": "e80b9682-d816-403c-ad60-027b27c0fe37",
   "metadata": {},
   "source": [
    "open( ) function is used to open a file."
   ]
  },
  {
   "cell_type": "markdown",
   "id": "a7d4ca2f-9734-445f-b600-880098e33260",
   "metadata": {},
   "source": [
    "There are six modes to open a file.\n",
    "\n",
    "__Read Only__ (‘r’) : Open text file for reading. The handle is positioned at the beginning of the file. If the file does not exists, raises the I/O error. This is also the default mode in which a file is opened.\n",
    "\n",
    "\n",
    "\n",
    "__Read and Write__ (‘r+’): Open the file for reading and writing. The handle is positioned at the beginning of the file. Raises I/O error if the file does not exist.\n",
    "\n",
    "\n",
    "\n",
    "__Write Only__ (‘w’) : Open the file for writing. For the existing files, the data is truncated and over-written. The handle is positioned at the beginning of the file. Creates the file if the file does not exist.\n",
    "\n",
    "\n",
    "__Write and Read__ (‘w+’) : Open the file for reading and writing. For an existing file, data is truncated and over-written. The handle is positioned at the beginning of the file.\n",
    "\n",
    "\n",
    "__Append Only__ (‘a’): Open the file for writing. The file is created if it does not exist. The handle is positioned at the end of the file. The data being written will be inserted at the end, after the existing data.\n",
    "\n",
    "\n",
    "__Append and Read__ (‘a+’) : Open the file for reading and writing. The file is created if it does not exist. The handle is positioned at the end of the file. The data being written will be inserted at the end, after the existing data."
   ]
  },
  {
   "cell_type": "markdown",
   "id": "761437fb-4607-4a89-9201-1f08603d0a0b",
   "metadata": {},
   "source": [
    "## Answer 2"
   ]
  },
  {
   "cell_type": "markdown",
   "id": "a59a6529-816f-42df-8389-e4549232b412",
   "metadata": {},
   "source": [
    "The close() method closes an open file.\n",
    "\n",
    "We should always close our files, in some cases, due to buffering, changes made to a file may not show until you close the file."
   ]
  },
  {
   "cell_type": "markdown",
   "id": "3b0b1a53-6e3f-46d3-90ee-f73b88261d20",
   "metadata": {},
   "source": [
    "## Answer 3"
   ]
  },
  {
   "cell_type": "code",
   "execution_count": 95,
   "id": "b980dad2-c279-419c-839a-5c8298b5772c",
   "metadata": {},
   "outputs": [],
   "source": [
    "f=open(\"text.txt\",\"w\")\n",
    "f.write(\"I want to become a Data Scientist\")\n",
    "f.close()"
   ]
  },
  {
   "cell_type": "code",
   "execution_count": 96,
   "id": "99b8374a-f900-444e-9d28-82992ba09620",
   "metadata": {},
   "outputs": [
    {
     "data": {
      "text/plain": [
       "'I want to become a Data Scientist'"
      ]
     },
     "execution_count": 96,
     "metadata": {},
     "output_type": "execute_result"
    }
   ],
   "source": [
    "data=open(\"text.txt\",\"r\")\n",
    "data.read()"
   ]
  },
  {
   "cell_type": "markdown",
   "id": "2d2969dd-f7ea-4973-a93e-ad345fe1008f",
   "metadata": {},
   "source": [
    "## Answer 4"
   ]
  },
  {
   "cell_type": "code",
   "execution_count": 12,
   "id": "4261eba4-1edb-4c9e-8e8c-38b0f4a4d4ff",
   "metadata": {},
   "outputs": [],
   "source": [
    "sample=(\"Machine Learning is an application of AI.\\nIt’s the process of using mathematical models of data to help a computer learn without direct instruction.\\nThis enables a computer system to continue learning and improving on its own, based on experience.\")\n",
    "\n",
    "f=open(\"sample.txt\", \"w\")\n",
    "f.write(sample)\n",
    "\n",
    "data=open(\"sample.txt\",\"r\")"
   ]
  },
  {
   "cell_type": "markdown",
   "id": "8e0a8d0b-efc0-459b-bd75-1fe1e023f9fe",
   "metadata": {},
   "source": [
    "__read( )__ By default the read( ) method returns the whole text, but you can also specify how many characters you want to return."
   ]
  },
  {
   "cell_type": "code",
   "execution_count": 33,
   "id": "c99a3f7c-5769-4d53-9bcf-938a6361866d",
   "metadata": {},
   "outputs": [
    {
     "data": {
      "text/plain": [
       "'Machine Learning is an application of AI.\\nIt’s the process of using mathematical models of data to help a computer learn without direct instruction.\\nThis enables a computer system to continue learning and improving on its own, based on experience.'"
      ]
     },
     "execution_count": 33,
     "metadata": {},
     "output_type": "execute_result"
    }
   ],
   "source": [
    "data.read()"
   ]
  },
  {
   "cell_type": "code",
   "execution_count": 31,
   "id": "0de7ccbd-f779-48dd-a796-ac899a0c045c",
   "metadata": {},
   "outputs": [
    {
     "data": {
      "text/plain": [
       "0"
      ]
     },
     "execution_count": 31,
     "metadata": {},
     "output_type": "execute_result"
    }
   ],
   "source": [
    "data.seek(0)   # restoring cursor to the 0th position"
   ]
  },
  {
   "cell_type": "markdown",
   "id": "b2217c26-2b15-4830-a076-abe2887b9953",
   "metadata": {},
   "source": [
    "__readine()__ function reads a line of the file and return it in the form of the string. It takes a parameter n, which specifies the maximum number of bytes that will be read. However, does not reads more than one line, even if n exceeds the length of the line. It will be efficient when reading a large file because instead of fetching all the data in one go, it fetches line by line. readline( ) returns the next line of the file which contains a newline character in the end. Also, if the end of the file is reached, it will return an empty string."
   ]
  },
  {
   "cell_type": "code",
   "execution_count": 55,
   "id": "68e63d0a-56c3-4ada-bdd5-7f22e4487cdf",
   "metadata": {},
   "outputs": [
    {
     "name": "stdout",
     "output_type": "stream",
     "text": [
      "Line1: Machine Learning is an application of AI.\n",
      "\n",
      "Line2: It’s the process of using mathematical models of data to help a computer learn without direct instruction.\n",
      "\n",
      "Line3: This enables a computer system to continue learning and improving on its own, based on experience.\n"
     ]
    },
    {
     "data": {
      "text/plain": [
       "0"
      ]
     },
     "execution_count": 55,
     "metadata": {},
     "output_type": "execute_result"
    }
   ],
   "source": [
    "# readline reads the line one by one \n",
    "count=0\n",
    "while True:\n",
    "    count+=1\n",
    "    file=data.readline()      #readline\n",
    "    if not file:\n",
    "        break\n",
    "    print(\"Line{}: {}\".format(count,file))\n",
    "data.seek(0)                   # restoring cursor to the 0th position                                 "
   ]
  },
  {
   "cell_type": "markdown",
   "id": "6d9c8233-8331-4fcf-b231-ea77f3224d54",
   "metadata": {},
   "source": [
    "__readlines()__ is used to read all the lines at a single go and then return them as each line a string element in a list. This function can be used for small files, as it reads the whole file content to the memory, then split it into separate lines. We can iterate over the list and strip the newline ‘\\n’ character using strip() function."
   ]
  },
  {
   "cell_type": "code",
   "execution_count": 56,
   "id": "d616a8f3-9124-476e-b338-4ed5d7d60f3a",
   "metadata": {},
   "outputs": [
    {
     "data": {
      "text/plain": [
       "['Machine Learning is an application of AI.\\n',\n",
       " 'It’s the process of using mathematical models of data to help a computer learn without direct instruction.\\n',\n",
       " 'This enables a computer system to continue learning and improving on its own, based on experience.']"
      ]
     },
     "execution_count": 56,
     "metadata": {},
     "output_type": "execute_result"
    }
   ],
   "source": [
    "data.readlines()   # returning lines in form of an element of list"
   ]
  },
  {
   "cell_type": "markdown",
   "id": "f05e112f-2fc2-4345-9626-dfc78d2755ac",
   "metadata": {},
   "source": [
    "## Answer 5"
   ]
  },
  {
   "cell_type": "markdown",
   "id": "97e8ad22-fafe-4de9-bce9-31ce3938761f",
   "metadata": {},
   "source": [
    "The with statement works with the open() function to open a file.\n",
    "\n",
    "Unlike open() where we have to close the file with the close() method, the with statement closes the file for us without us telling it to.\n",
    "\n",
    "This is because the with statement calls 2 built-in methods behind the scene  __enter()__ and __exit()__.\n",
    "\n",
    "The __exit()__ method closes the file when the operation we specify is done."
   ]
  },
  {
   "cell_type": "markdown",
   "id": "4de5f253-3085-4d09-98c9-15030ff1bc6c",
   "metadata": {},
   "source": [
    "## Answer 6"
   ]
  },
  {
   "cell_type": "markdown",
   "id": "c9d3ad90-d4ed-4a77-93f6-c466f2fbd40e",
   "metadata": {},
   "source": [
    "__writelines( )__ for a list of string elements, each string is inserted in the text file. Used to insert multiple strings at a single time."
   ]
  },
  {
   "cell_type": "code",
   "execution_count": 92,
   "id": "5f27f205-ee1a-46db-8484-f646b0650599",
   "metadata": {},
   "outputs": [
    {
     "name": "stdout",
     "output_type": "stream",
     "text": [
      "hello world I am here\n",
      "please ignore \n"
     ]
    }
   ],
   "source": [
    "with open(\"test.txt\",\"w\") as f:\n",
    "    f.writelines([\"hello \", \"world \", \"I \", \"am \", \"here\\n\", \"please \",\"ignore \"])   #list of strings\n",
    "    \n",
    "with open(\"test.txt\",\"r\") as f:\n",
    "    print(f.read())                  # printed as a single string"
   ]
  },
  {
   "cell_type": "markdown",
   "id": "823e3f9a-eb9a-448b-bada-9fcbab8dc51a",
   "metadata": {},
   "source": [
    "__write( )__  inserts the string in a single line in the text file."
   ]
  },
  {
   "cell_type": "code",
   "execution_count": 88,
   "id": "c02a8594-644f-4eb5-9363-111de7b43826",
   "metadata": {},
   "outputs": [
    {
     "name": "stdout",
     "output_type": "stream",
     "text": [
      "hello world I am here \n",
      "please ignore\n"
     ]
    }
   ],
   "source": [
    "with open(\"test1.txt\",\"w\") as f:\n",
    "    f.write(\"hello world I am here \\nplease ignore\")   #string\n",
    "    \n",
    "with open(\"test1.txt\",\"r\") as f:\n",
    "    print(f.read())                 #printing string"
   ]
  },
  {
   "cell_type": "code",
   "execution_count": null,
   "id": "7a3ace11-d49e-4718-a754-794cef5ee5b5",
   "metadata": {},
   "outputs": [],
   "source": []
  }
 ],
 "metadata": {
  "kernelspec": {
   "display_name": "Python 3 (ipykernel)",
   "language": "python",
   "name": "python3"
  },
  "language_info": {
   "codemirror_mode": {
    "name": "ipython",
    "version": 3
   },
   "file_extension": ".py",
   "mimetype": "text/x-python",
   "name": "python",
   "nbconvert_exporter": "python",
   "pygments_lexer": "ipython3",
   "version": "3.10.8"
  }
 },
 "nbformat": 4,
 "nbformat_minor": 5
}
