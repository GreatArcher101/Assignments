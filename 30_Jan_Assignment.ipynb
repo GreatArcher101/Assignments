{
 "cells": [
  {
   "cell_type": "markdown",
   "id": "21be92c9-4955-4a6f-aa90-6c58235219e9",
   "metadata": {},
   "source": [
    "## Answer_1"
   ]
  },
  {
   "cell_type": "code",
   "execution_count": 1,
   "id": "e3177191-858d-464b-acac-ebf06d335667",
   "metadata": {},
   "outputs": [
    {
     "name": "stdin",
     "output_type": "stream",
     "text": [
      "Please Enter Your Percentage 67\n"
     ]
    },
    {
     "name": "stdout",
     "output_type": "stream",
     "text": [
      "Grade C\n"
     ]
    }
   ],
   "source": [
    "i= int(input(\"Please Enter Your Percentage\"))\n",
    "if i>100:\n",
    "    print(\"Please Enter The Right Value\")\n",
    "elif i>90:\n",
    "    print(\"Grade A\")\n",
    "elif i>80 and i<=90:\n",
    "    print(\"Grade B\")\n",
    "elif i>=60 and i<=80:\n",
    "    print(\"Grade C\")\n",
    "else:\n",
    "    print(\"Grade D\")"
   ]
  },
  {
   "cell_type": "markdown",
   "id": "9fa66869-360b-4504-8003-4c2fb4385b6e",
   "metadata": {},
   "source": [
    "## Answer_2"
   ]
  },
  {
   "cell_type": "code",
   "execution_count": 29,
   "id": "b691b9fe-332a-4764-8c2f-1946fba5f00e",
   "metadata": {},
   "outputs": [
    {
     "name": "stdin",
     "output_type": "stream",
     "text": [
      "Please Enter The Price of Your Bike= 50000\n"
     ]
    },
    {
     "name": "stdout",
     "output_type": "stream",
     "text": [
      "Road Tax= 2500\n"
     ]
    }
   ],
   "source": [
    "i= int(input(\"Please Enter The Price of Your Bike=\"))\n",
    "if i>100000:\n",
    "    print('Road Tax=',int(i*.15))\n",
    "elif i<=100000 and i>50000:\n",
    "    print('Road Tax=',int(i*.10))\n",
    "elif i<=50000:\n",
    "    print('Road Tax=',int(i*.05))"
   ]
  },
  {
   "cell_type": "markdown",
   "id": "37d1b8c8-a80a-49d3-a71e-29ef066fb5f2",
   "metadata": {},
   "source": [
    "## Answer_3"
   ]
  },
  {
   "cell_type": "code",
   "execution_count": 45,
   "id": "8b12e7b7-29b5-408c-8825-e47c6f237d3e",
   "metadata": {},
   "outputs": [
    {
     "name": "stdin",
     "output_type": "stream",
     "text": [
      "Please Enter Your City\n",
      " Delhi\n"
     ]
    },
    {
     "name": "stdout",
     "output_type": "stream",
     "text": [
      "Red Fort\n"
     ]
    }
   ],
   "source": [
    "i= str(input(\"Please Enter Your City\\n\").upper())\n",
    "if i=='DELHI':\n",
    "    print('Red Fort')\n",
    "elif i=='JAIPUR':\n",
    "    print('Jal Mahal')\n",
    "elif i=='AGRA':\n",
    "    print('Taj Mahal')\n",
    "else:\n",
    "    print('Data Not Found')"
   ]
  },
  {
   "cell_type": "markdown",
   "id": "136cc2ab-2d1c-417a-a5f8-3e114c7ed879",
   "metadata": {},
   "source": [
    "## Answer_4"
   ]
  },
  {
   "cell_type": "code",
   "execution_count": 62,
   "id": "b2c5e0da-8b0b-4d9b-97e6-af8faf9f36a2",
   "metadata": {},
   "outputs": [
    {
     "data": {
      "text/plain": [
       "3"
      ]
     },
     "execution_count": 62,
     "metadata": {},
     "output_type": "execute_result"
    }
   ],
   "source": [
    "len([i for i in range(1,11) if i%3==0])"
   ]
  },
  {
   "cell_type": "markdown",
   "id": "49b181be-0e98-478a-a4be-be88131eeca0",
   "metadata": {},
   "source": [
    "## Answer_5"
   ]
  },
  {
   "cell_type": "markdown",
   "id": "ad32450a-01ea-4f1b-96c9-3230612d222c",
   "metadata": {},
   "source": [
    "A \"While\" Loop is used to repeat a specific block of code an unknown number of times, until a condition is met.\n",
    "For example, if we want to ask a user for a number between 1 and 10, we don't know how many times the user may enter a larger number, so we keep asking \"while the number is not between 1 and 10\"."
   ]
  },
  {
   "cell_type": "markdown",
   "id": "1a47b9c3-ba51-4a00-b351-921be5881747",
   "metadata": {},
   "source": [
    "## Answer_6"
   ]
  },
  {
   "cell_type": "code",
   "execution_count": 2,
   "id": "537de78b-889e-4b4b-997a-6db2d57738c4",
   "metadata": {},
   "outputs": [
    {
     "name": "stdin",
     "output_type": "stream",
     "text": [
      "number 9\n"
     ]
    },
    {
     "name": "stdout",
     "output_type": "stream",
     "text": [
      "*\n",
      "**\n",
      "***\n",
      "****\n",
      "*****\n",
      "******\n",
      "*******\n",
      "********\n",
      "*********\n"
     ]
    }
   ],
   "source": [
    "n=int(input(\"number\"))\n",
    "i=0\n",
    "j=0\n",
    "while i<n:\n",
    "    j=i+1\n",
    "    while j>0:\n",
    "        print(\"*\",end='')\n",
    "        j=j-1\n",
    "    i+=1 \n",
    "    print()"
   ]
  },
  {
   "cell_type": "code",
   "execution_count": 3,
   "id": "fd522605-b63a-4834-9e1c-0eb9667f2368",
   "metadata": {},
   "outputs": [
    {
     "name": "stdin",
     "output_type": "stream",
     "text": [
      "number 9\n"
     ]
    },
    {
     "name": "stdout",
     "output_type": "stream",
     "text": [
      "*********\n",
      "********\n",
      "*******\n",
      "******\n",
      "*****\n",
      "****\n",
      "***\n",
      "**\n",
      "*\n"
     ]
    }
   ],
   "source": [
    "n=int(input(\"number\"))\n",
    "i=n\n",
    "j=0\n",
    "while i>0:\n",
    "    j=i\n",
    "    while j>0:\n",
    "        print(\"*\",end='')\n",
    "        j=j-1\n",
    "    i=i-1 \n",
    "    print()"
   ]
  },
  {
   "cell_type": "code",
   "execution_count": null,
   "id": "321159cd-8dc5-430e-af1a-62cf4771259c",
   "metadata": {},
   "outputs": [],
   "source": [
    "n=int(input('Enter The Number'))\n",
    "i=0\n",
    "while i<n:\n",
    "    j=n-i-1\n",
    "    while j>0:\n",
    "        print(end=\" \")\n",
    "        j=j-1\n",
    "    k=i+1\n",
    "    while k>0:\n",
    "        print(\"*\",end=\" \")\n",
    "        k=k-1\n",
    "    i=i+1\n",
    "    print()"
   ]
  },
  {
   "cell_type": "markdown",
   "id": "f41bf53b-dad5-4a93-845a-fdcfab429a84",
   "metadata": {},
   "source": [
    "## Answer_7"
   ]
  },
  {
   "cell_type": "code",
   "execution_count": 4,
   "id": "88fdc331-0575-432d-82b9-3d472ffb4a6a",
   "metadata": {},
   "outputs": [
    {
     "name": "stdout",
     "output_type": "stream",
     "text": [
      "10\n",
      "9\n",
      "8\n",
      "7\n",
      "6\n",
      "5\n",
      "4\n",
      "3\n",
      "2\n",
      "1\n"
     ]
    }
   ],
   "source": [
    "i=10\n",
    "while i>0:\n",
    "    print(i)\n",
    "    i=i-1"
   ]
  },
  {
   "cell_type": "code",
   "execution_count": null,
   "id": "8bd9efae-537c-4fae-9e21-5c01cdfe71ca",
   "metadata": {},
   "outputs": [],
   "source": []
  },
  {
   "cell_type": "code",
   "execution_count": null,
   "id": "f254c36d-cda5-4837-8519-41a41cc2a900",
   "metadata": {},
   "outputs": [],
   "source": []
  }
 ],
 "metadata": {
  "kernelspec": {
   "display_name": "Python 3 (ipykernel)",
   "language": "python",
   "name": "python3"
  },
  "language_info": {
   "codemirror_mode": {
    "name": "ipython",
    "version": 3
   },
   "file_extension": ".py",
   "mimetype": "text/x-python",
   "name": "python",
   "nbconvert_exporter": "python",
   "pygments_lexer": "ipython3",
   "version": "3.10.8"
  }
 },
 "nbformat": 4,
 "nbformat_minor": 5
}
