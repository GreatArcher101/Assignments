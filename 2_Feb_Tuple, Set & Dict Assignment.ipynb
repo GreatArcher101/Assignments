{
 "cells": [
  {
   "cell_type": "markdown",
   "id": "029aa380-7622-4117-9bb4-4b7f622d5f54",
   "metadata": {},
   "source": [
    "## Answer_1"
   ]
  },
  {
   "cell_type": "markdown",
   "id": "628c7636-cfcc-4671-a647-8e1d14658623",
   "metadata": {},
   "source": [
    "Tuple is a collection which is ordered and unchangeable. Allows duplicate members.\n",
    "Tuples are used to store multiple items in a single variable.\n",
    "Tuples are written with round brackets.\n",
    "\n",
    "Yes, tuples are immutable."
   ]
  },
  {
   "cell_type": "markdown",
   "id": "01f10c7d-cd78-4229-a77d-670e70844920",
   "metadata": {},
   "source": [
    "## Answer_2"
   ]
  },
  {
   "cell_type": "markdown",
   "id": "b3b10576-16b1-4bd5-95e9-b6c5efc29d53",
   "metadata": {},
   "source": [
    "There are only two tuple methods count() and index() that a tuple object can call.\n",
    "Tuples have only 2 methods because tuples are unchangeable. Only index() and count() methods don't modify tuples."
   ]
  },
  {
   "cell_type": "code",
   "execution_count": 54,
   "id": "2a8fc1cf-8bd3-4041-b5c4-ce3cf4b45248",
   "metadata": {},
   "outputs": [],
   "source": [
    "# here 'a' is a tuple\n",
    "a=(1,2,3,4,1)"
   ]
  },
  {
   "cell_type": "code",
   "execution_count": 19,
   "id": "849f7a74-d3f4-4609-9813-b6ea05d003c1",
   "metadata": {},
   "outputs": [
    {
     "data": {
      "text/plain": [
       "2"
      ]
     },
     "execution_count": 19,
     "metadata": {},
     "output_type": "execute_result"
    }
   ],
   "source": [
    "# count method counts, how many times the element has in tuple. Here '1' is 2 times so the method returns the same.\n",
    "a.count(1)"
   ]
  },
  {
   "cell_type": "code",
   "execution_count": 20,
   "id": "b8fb9c40-dc94-4ffb-a683-f1b3863a1c44",
   "metadata": {},
   "outputs": [
    {
     "data": {
      "text/plain": [
       "1"
      ]
     },
     "execution_count": 20,
     "metadata": {},
     "output_type": "execute_result"
    }
   ],
   "source": [
    "# here '2' is only one time so the method give 1 as count.\n",
    "a.count(2)"
   ]
  },
  {
   "cell_type": "code",
   "execution_count": 35,
   "id": "4ed6676b-52a2-4b54-9938-a7d8c748378c",
   "metadata": {},
   "outputs": [
    {
     "data": {
      "text/plain": [
       "0"
      ]
     },
     "execution_count": 35,
     "metadata": {},
     "output_type": "execute_result"
    }
   ],
   "source": [
    "# index method gives the index postion of the element, here '1' is present on 0 index position\n",
    "a.index(1)"
   ]
  },
  {
   "cell_type": "code",
   "execution_count": 56,
   "id": "2fc25aa1-62f0-4219-b6d9-627281976982",
   "metadata": {},
   "outputs": [
    {
     "data": {
      "text/plain": [
       "4"
      ]
     },
     "execution_count": 56,
     "metadata": {},
     "output_type": "execute_result"
    }
   ],
   "source": [
    "# here if I want to know the position of 2nd '1', I will give start position after the 1st indexed '1'.\n",
    "a.index(1,2)"
   ]
  },
  {
   "cell_type": "markdown",
   "id": "6e1acf46-f855-4cb0-93ac-2863c35e9b65",
   "metadata": {},
   "source": [
    "## Answer_3"
   ]
  },
  {
   "cell_type": "markdown",
   "id": "f1b8ba9b-fa68-44c6-9c46-44f89e04f5b1",
   "metadata": {},
   "source": [
    "Set is the collection of datatypes in python which do not allow duplicate items."
   ]
  },
  {
   "cell_type": "code",
   "execution_count": 61,
   "id": "3578e90d-feaf-4254-9700-2f6c79aa2ec6",
   "metadata": {},
   "outputs": [],
   "source": [
    "List = [1, 1, 1, 2, 1, 3, 1, 4, 2, 1, 2, 2, 2, 3, 2, 4, 3, 1, 3, 2, 3, 3, 3, 4, 4, 1, 4, 2, 4, 3, 4, 4]\n",
    "b=set(List)"
   ]
  },
  {
   "cell_type": "code",
   "execution_count": 62,
   "id": "d5dc46a1-028c-46c4-9008-32ca54079a5a",
   "metadata": {},
   "outputs": [
    {
     "data": {
      "text/plain": [
       "{1, 2, 3, 4}"
      ]
     },
     "execution_count": 62,
     "metadata": {},
     "output_type": "execute_result"
    }
   ],
   "source": [
    "b"
   ]
  },
  {
   "cell_type": "markdown",
   "id": "7a242fc8-0c97-4881-bdf3-a1ac12556afd",
   "metadata": {},
   "source": [
    "## Answer_4"
   ]
  },
  {
   "cell_type": "markdown",
   "id": "ce321b9c-f434-4e1b-963c-450518fb0d3b",
   "metadata": {},
   "source": [
    " set.update() adds all missing elements to the set on which it is called.\n",
    " whereas set.union() modify the set permanently on which it is called by adding the missing elements."
   ]
  },
  {
   "cell_type": "code",
   "execution_count": 66,
   "id": "7ef98971-23d6-47be-a282-cbeebdb7b829",
   "metadata": {},
   "outputs": [],
   "source": [
    "a={1,2,3,4}\n",
    "b={5,6,7}"
   ]
  },
  {
   "cell_type": "code",
   "execution_count": 67,
   "id": "45929760-843f-40ff-9922-a8c58aa4b664",
   "metadata": {},
   "outputs": [
    {
     "data": {
      "text/plain": [
       "{1, 2, 3, 4, 5, 6, 7}"
      ]
     },
     "execution_count": 67,
     "metadata": {},
     "output_type": "execute_result"
    }
   ],
   "source": [
    "a.union(b)"
   ]
  },
  {
   "cell_type": "code",
   "execution_count": 68,
   "id": "86fadd66-3ec5-46a2-85a1-2d445549367f",
   "metadata": {},
   "outputs": [
    {
     "data": {
      "text/plain": [
       "{1, 2, 3, 4}"
      ]
     },
     "execution_count": 68,
     "metadata": {},
     "output_type": "execute_result"
    }
   ],
   "source": [
    "a"
   ]
  },
  {
   "cell_type": "code",
   "execution_count": 69,
   "id": "10b4ea31-fd33-4444-95ca-f8cf74cd0dbb",
   "metadata": {},
   "outputs": [],
   "source": [
    "a.update(b)"
   ]
  },
  {
   "cell_type": "code",
   "execution_count": 70,
   "id": "9bbbf5fe-41eb-4a8f-9fd3-ad2b8105ef84",
   "metadata": {},
   "outputs": [
    {
     "data": {
      "text/plain": [
       "{1, 2, 3, 4, 5, 6, 7}"
      ]
     },
     "execution_count": 70,
     "metadata": {},
     "output_type": "execute_result"
    }
   ],
   "source": [
    "a"
   ]
  },
  {
   "cell_type": "markdown",
   "id": "842cab56-dacc-4812-9491-283a5a9d5891",
   "metadata": {},
   "source": [
    "## Answer_5"
   ]
  },
  {
   "cell_type": "markdown",
   "id": "53b29e84-44f6-45f4-9f57-2f2151e3c89c",
   "metadata": {},
   "source": [
    "Dictionaries are used to store data values in key:value pairs. A dictionary is a collection which is ordered(version 3.7), changeable and do not allow duplicates."
   ]
  },
  {
   "cell_type": "code",
   "execution_count": 71,
   "id": "977e194d-79ed-48a8-9a8e-609115f85886",
   "metadata": {},
   "outputs": [],
   "source": [
    "dic={1:'a',2:'b',3:'c',4:'d'}"
   ]
  },
  {
   "cell_type": "code",
   "execution_count": 72,
   "id": "d1755ff0-c4b7-4120-8f54-4bd58682bcff",
   "metadata": {},
   "outputs": [
    {
     "data": {
      "text/plain": [
       "dict"
      ]
     },
     "execution_count": 72,
     "metadata": {},
     "output_type": "execute_result"
    }
   ],
   "source": [
    "type(dic)"
   ]
  },
  {
   "cell_type": "markdown",
   "id": "0ec5e106-511e-454d-a72d-afad2fb4dfb1",
   "metadata": {},
   "source": [
    "## Answer_6"
   ]
  },
  {
   "cell_type": "markdown",
   "id": "5b796b02-8c59-4c92-b1d6-b8145392b5dd",
   "metadata": {},
   "source": [
    "We can create a nested dictionary. "
   ]
  },
  {
   "cell_type": "code",
   "execution_count": 81,
   "id": "c090ae88-60d9-4c94-835e-95fa91ba7b0d",
   "metadata": {},
   "outputs": [],
   "source": [
    "dic1={8:'h',9:'i',10:'j'}\n",
    "\n",
    "dic2={5:'e',6:'f',7:'g',11:dic1}"
   ]
  },
  {
   "cell_type": "code",
   "execution_count": 80,
   "id": "6f37c5b3-deb1-48b6-a859-d16704e780bc",
   "metadata": {},
   "outputs": [
    {
     "data": {
      "text/plain": [
       "dict"
      ]
     },
     "execution_count": 80,
     "metadata": {},
     "output_type": "execute_result"
    }
   ],
   "source": [
    "type(dic2)"
   ]
  },
  {
   "cell_type": "code",
   "execution_count": 82,
   "id": "539adfe2-ab12-464a-ac0c-6d9c3c31fb25",
   "metadata": {},
   "outputs": [
    {
     "data": {
      "text/plain": [
       "{5: 'e', 6: 'f', 7: 'g', 11: {8: 'h', 9: 'i', 10: 'j'}}"
      ]
     },
     "execution_count": 82,
     "metadata": {},
     "output_type": "execute_result"
    }
   ],
   "source": [
    "dic2"
   ]
  },
  {
   "cell_type": "markdown",
   "id": "a292cfd0-923f-4c85-95eb-b139991d4dd4",
   "metadata": {},
   "source": [
    "## Answer_7"
   ]
  },
  {
   "cell_type": "code",
   "execution_count": 4,
   "id": "eca45763-487f-4806-ba49-f87343681af7",
   "metadata": {},
   "outputs": [],
   "source": [
    "dict1 = {'language' : 'Python', 'course': 'Data Science Masters'}"
   ]
  },
  {
   "cell_type": "code",
   "execution_count": 5,
   "id": "25cd8ba2-581a-48d5-b73d-f20d117500f0",
   "metadata": {},
   "outputs": [],
   "source": [
    "dict1.setdefault('Topics',[]).extend(['Python','Machine Learing','Deep Learning'])"
   ]
  },
  {
   "cell_type": "code",
   "execution_count": 7,
   "id": "f1221726-2a85-47fe-9ed6-ce7229cdfe24",
   "metadata": {},
   "outputs": [
    {
     "data": {
      "text/plain": [
       "{'language': 'Python',\n",
       " 'course': 'Data Science Masters',\n",
       " 'Topics': ['Python', 'Machine Learing', 'Deep Learning']}"
      ]
     },
     "execution_count": 7,
     "metadata": {},
     "output_type": "execute_result"
    }
   ],
   "source": [
    "dict1"
   ]
  },
  {
   "cell_type": "markdown",
   "id": "96045a90-fd23-424e-9664-82919ff560fd",
   "metadata": {},
   "source": [
    "## Answer_8"
   ]
  },
  {
   "cell_type": "code",
   "execution_count": 8,
   "id": "c02608bf-ae0d-430d-8f53-e1931204e2b1",
   "metadata": {},
   "outputs": [],
   "source": [
    "dict1 = {'Sport': 'Cricket' , 'Teams': ['India', 'Australia', 'England', 'South Africa', 'Sri Lanka', 'New Zealand']}"
   ]
  },
  {
   "cell_type": "code",
   "execution_count": 11,
   "id": "74db2d72-d3a1-4f64-9cdd-c9d0b6981374",
   "metadata": {},
   "outputs": [
    {
     "data": {
      "text/plain": [
       "dict_items([('Sport', 'Cricket'), ('Teams', ['India', 'Australia', 'England', 'South Africa', 'Sri Lanka', 'New Zealand'])])"
      ]
     },
     "execution_count": 11,
     "metadata": {},
     "output_type": "execute_result"
    }
   ],
   "source": [
    "dict1.items()"
   ]
  },
  {
   "cell_type": "code",
   "execution_count": 12,
   "id": "a4522c16-1872-4d12-bd07-2664b1086c48",
   "metadata": {},
   "outputs": [
    {
     "data": {
      "text/plain": [
       "dict_keys(['Sport', 'Teams'])"
      ]
     },
     "execution_count": 12,
     "metadata": {},
     "output_type": "execute_result"
    }
   ],
   "source": [
    "dict1.keys()"
   ]
  },
  {
   "cell_type": "code",
   "execution_count": 13,
   "id": "26473619-411e-4f4c-b217-827ad0b57ad4",
   "metadata": {},
   "outputs": [
    {
     "data": {
      "text/plain": [
       "dict_values(['Cricket', ['India', 'Australia', 'England', 'South Africa', 'Sri Lanka', 'New Zealand']])"
      ]
     },
     "execution_count": 13,
     "metadata": {},
     "output_type": "execute_result"
    }
   ],
   "source": [
    "dict1.values()"
   ]
  },
  {
   "cell_type": "code",
   "execution_count": null,
   "id": "7cd3fa26-bb05-413b-b293-f0de38d71ce3",
   "metadata": {},
   "outputs": [],
   "source": []
  }
 ],
 "metadata": {
  "kernelspec": {
   "display_name": "Python 3 (ipykernel)",
   "language": "python",
   "name": "python3"
  },
  "language_info": {
   "codemirror_mode": {
    "name": "ipython",
    "version": 3
   },
   "file_extension": ".py",
   "mimetype": "text/x-python",
   "name": "python",
   "nbconvert_exporter": "python",
   "pygments_lexer": "ipython3",
   "version": "3.10.8"
  }
 },
 "nbformat": 4,
 "nbformat_minor": 5
}
