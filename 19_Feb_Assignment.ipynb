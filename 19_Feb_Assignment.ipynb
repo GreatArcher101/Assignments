{
 "cells": [
  {
   "cell_type": "markdown",
   "id": "1c5e4edf-7ed5-45fb-a860-630152f496a0",
   "metadata": {},
   "source": [
    "### Q1. What is Flask Framework? What are the advantages of Flask Framework?"
   ]
  },
  {
   "cell_type": "markdown",
   "id": "07609952-9b67-4ef9-86ee-49d96c760b13",
   "metadata": {},
   "source": [
    "Flask is a micro web framework written in Python that allows developers to quickly build web applications. Flask is based on the Werkzeug WSGI toolkit and the Jinja2 template engine, and it supports HTTP requests and responses, URL routing, cookie handling, and more."
   ]
  },
  {
   "cell_type": "markdown",
   "id": "f53c437d-079c-4c2a-9764-d1a1e6d136c2",
   "metadata": {},
   "source": [
    "Flask is a lightweight and flexible web framework for Python that offers several advantages, including:\n",
    "\n",
    "1. Easy to learn and use\n",
    "\n",
    "2. Lightweight\n",
    "\n",
    "3. Flexible\n",
    "\n",
    "4. Modular design\n",
    "\n",
    "5. Ideal for small to medium-sized applications\n",
    "\n",
    "6. Built-in development server\n",
    "\n",
    "7. Compatible with various databases\n",
    "\n",
    "Overall, Flask is a powerful and versatile framework that offers developers a lightweight and flexible option for building web applications."
   ]
  },
  {
   "cell_type": "markdown",
   "id": "d8aa2a40-c212-4cac-ba25-58ca347c0f43",
   "metadata": {},
   "source": [
    "### Q2. Create a simple Flask application to display ‘Hello World!!’. Attach the screenshot of the output in Jupyter Notebook."
   ]
  },
  {
   "cell_type": "markdown",
   "id": "7a1591fb-0f9a-451e-b2e2-7a174b77069b",
   "metadata": {},
   "source": [
    "By writing the following code in flask app, we can display desired output."
   ]
  },
  {
   "cell_type": "raw",
   "id": "c613b539-48b3-45f7-9886-a44f1d52e564",
   "metadata": {},
   "source": [
    "from flask import Flask \n",
    "\n",
    "app = Flask (__name__)\n",
    "\n",
    "@app.route(\"/\")\n",
    "def test():\n",
    "    return \"Hello World!!\"\n",
    "\n",
    "if __name__ == \"__main__\":\n",
    "    app.run(host= \"0.0.0.0\")"
   ]
  },
  {
   "attachments": {
    "3bf77790-0d22-4bc5-bbb2-9ae2f4971a74.png": {
     "image/png": "[encoded data removed]"
    }
   },
   "cell_type": "markdown",
   "id": "23272345-84b0-41be-bac8-e24c0c7d0372",
   "metadata": {},
   "source": [
    "![Screenshot 2023-02-23 171516.png](attachment:3bf77790-0d22-4bc5-bbb2-9ae2f4971a74.png)"
   ]
  },
  {
   "cell_type": "markdown",
   "id": "47f079fe-f300-4691-9e7d-e9070d35b24a",
   "metadata": {},
   "source": [
    "### Q3. What is App routing in Flask? Why do we use app routes?"
   ]
  },
  {
   "cell_type": "markdown",
   "id": "9c362182-3058-4de4-9948-e848ff0633d6",
   "metadata": {},
   "source": [
    "App routing in Flask refers to the process of mapping the URL of a web page to a specific function or view that will handle the request and generate a response for that page. In other words, it is a way to define which function should be executed for a given URL or route. This is done using the @app.route() decorator in Flask."
   ]
  },
  {
   "cell_type": "markdown",
   "id": "a1090a38-8bcd-4e45-b77f-0f98b75f6cf8",
   "metadata": {},
   "source": [
    "app routes are used to:\n",
    "\n",
    "1. Define the URLs or endpoints for the Flask application.\n",
    "2. Trigger the execution of a specific function or view when a specific URL is requested.\n",
    "3. Map the requested URL pattern to a corresponding function or view.\n",
    "4. Help the Flask application to respond to the client's requests."
   ]
  },
  {
   "cell_type": "markdown",
   "id": "ecf3400f-3a08-4c36-9f9f-acf2d380c25f",
   "metadata": {},
   "source": [
    "### Q4. Create a “/welcome” route to display the welcome message “Welcome to ABC Corporation” and a “/” route to show the following details:\n",
    "##### Company Name: ABC Corporation\n",
    "##### Location: India\n",
    "##### Contact Detail: 999-999-9999"
   ]
  },
  {
   "cell_type": "markdown",
   "id": "38f3f1b6-76b8-47f8-9d9f-e731c3b1f54c",
   "metadata": {},
   "source": [
    "By writing the following code in flask app, we can display desired output."
   ]
  },
  {
   "cell_type": "raw",
   "id": "858049bc-2cec-4ebf-a147-ac0dc5579df1",
   "metadata": {},
   "source": [
    "from flask import Flask \n",
    "\n",
    "app = Flask (__name__)\n",
    "\n",
    "@app.route(\"/welcome\")\n",
    "def test():\n",
    "    return \"Welcome to ABC Corporation\"\n",
    "    \n",
    "@app.route(\"/\")\n",
    "def test():\n",
    "    return \"Company Name: ABC Corporation, Location: India, Contact Detail: 999-999-9999\"\n",
    "\n",
    "if __name__ == \"__main__\":\n",
    "    app.run(host= \"0.0.0.0\")"
   ]
  },
  {
   "attachments": {
    "0c835d43-e3ab-4807-834b-7bf0cb27dbbe.png": {
     "image/png": "[encoded data removed]"
    }
   },
   "cell_type": "markdown",
   "id": "35892be1-2fd8-47d2-a3a7-1116aa269069",
   "metadata": {},
   "source": [
    "![Screenshot 2023-02-23 174934.png](attachment:0c835d43-e3ab-4807-834b-7bf0cb27dbbe.png)"
   ]
  },
  {
   "attachments": {
    "d5a56bbf-862d-4f64-845c-84cf262e1167.png": {
     "image/png": "[encoded data removed]"
    }
   },
   "cell_type": "markdown",
   "id": "219c436f-3e3b-4996-aa77-cd771bb9b280",
   "metadata": {},
   "source": [
    "![Screenshot 2023-02-23 174958.png](attachment:d5a56bbf-862d-4f64-845c-84cf262e1167.png)"
   ]
  },
  {
   "cell_type": "markdown",
   "id": "6499b013-d311-4794-a11a-36972fc1df5f",
   "metadata": {},
   "source": [
    "### Q5. What function is used in Flask for URL Building? Write a Python code to demonstrate the working of the url_for() function."
   ]
  },
  {
   "cell_type": "markdown",
   "id": "fc9dc857-b5ca-45d2-9866-8040390eb46f",
   "metadata": {},
   "source": [
    "In Flask, the url_for() function is used for URL building. It generates a URL to the given endpoint with the method provided. It takes the name of the endpoint as its first argument and any number of keyword arguments, each corresponding to a variable part of the URL rule for the endpoint."
   ]
  },
  {
   "cell_type": "code",
   "execution_count": null,
   "id": "2e6f9bf6-b834-4049-bcae-7f7f21267974",
   "metadata": {},
   "outputs": [],
   "source": [
    "from flask import Flask, redirect, url_for\n",
    "\n",
    "appFlask = Flask(__name__)\n",
    "\n",
    "@appFlask.route('/accountType/<Type>')\n",
    "def accountType(Type):\n",
    "    return 'This is a %s account' % Type\n",
    "\n",
    "@appFlask.route('/user/<name>')\n",
    "def userType(name):\n",
    "    if name =='premium':\n",
    "        return redirect(url_for('accountType',Type = name))\n",
    "    else:\n",
    "        return redirect(url_for('accountType',Type = name))\n",
    "    \n",
    "if __name__ == '__main__':\n",
    "    appFlask.run(debug = True)"
   ]
  }
 ],
 "metadata": {
  "kernelspec": {
   "display_name": "Python 3 (ipykernel)",
   "language": "python",
   "name": "python3"
  },
  "language_info": {
   "codemirror_mode": {
    "name": "ipython",
    "version": 3
   },
   "file_extension": ".py",
   "mimetype": "text/x-python",
   "name": "python",
   "nbconvert_exporter": "python",
   "pygments_lexer": "ipython3",
   "version": "3.10.8"
  }
 },
 "nbformat": 4,
 "nbformat_minor": 5
}
