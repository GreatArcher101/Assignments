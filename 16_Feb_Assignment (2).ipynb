{
 "cells": [
  {
   "cell_type": "markdown",
   "id": "c6dd18e9-627e-4f2d-a340-bb644ef77abf",
   "metadata": {},
   "source": [
    "### Q1. What is a database? Differentiate between SQL and NoSQL databases."
   ]
  },
  {
   "cell_type": "markdown",
   "id": "d2c29fe5-d1c8-4e06-8520-38e83aa83729",
   "metadata": {},
   "source": [
    "A database is a structured collection of data that is stored and organized in a way that allows for efficient retrieval, management, and updating of the data. It is a software system that provides tools for managing data, including inserting, updating, querying, and deleting data, as well as defining the structure and relationships between different data entities. A database can be thought of as a digital filing system that allows users to store, organize, and retrieve data in a reliable and efficient way."
   ]
  },
  {
   "cell_type": "markdown",
   "id": "36bda289-0301-4bbc-b4d3-2bb516386eea",
   "metadata": {},
   "source": [
    "SQL and NoSQL are two different types of databases that differ in their data storage and retrieval methods. Here are the key differences between the two:\n",
    "\n",
    "1. Data Model:\n",
    "SQL databases use a structured data model, also known as a Relational Data Model. It organizes data into one or more tables with a fixed schema, and relationships can be established between tables. NoSQL databases, on the other hand, use an unstructured data model that allows for more flexibility in data storage. They can store data in documents, key-value pairs, column family or graph formats.\n",
    "\n",
    "2. Query Language:\n",
    "SQL databases use a Structured Query Language (SQL) to manipulate data. SQL has a standardized syntax that is used to insert, update, delete, and query data. NoSQL databases, on the other hand, do not use a standardized query language. Each NoSQL database has its own API that is used to manipulate data.\n",
    "\n",
    "3. Scalability:\n",
    "SQL databases are vertically scalable, which means that you can increase the performance of a single server by adding more resources like RAM, CPU, or storage. NoSQL databases, on the other hand, are horizontally scalable, which means that you can increase performance by adding more servers to a cluster.\n",
    "\n",
    "4. ACID Compliance:\n",
    "SQL databases are ACID (Atomicity, Consistency, Isolation, Durability) compliant, which ensures that transactions are processed reliably. NoSQL databases, on the other hand, are usually not ACID compliant, but some do provide ACID-like guarantees.\n",
    "\n",
    "5. Data Type Support:\n",
    "SQL databases have strong data type support, which means that they enforce strict data types for fields in a table. NoSQL databases, on the other hand, are usually schema-less, which allows for more flexibility in data storage.\n",
    "\n",
    "6. Use Cases:\n",
    "SQL databases are well-suited for applications that require complex queries, transaction processing, and data integrity. NoSQL databases, on the other hand, are better suited for applications that require high availability, scalability, and flexible data models.\n",
    "\n",
    "Overall, the choice between SQL and NoSQL databases depends on the specific requirements of the application."
   ]
  },
  {
   "cell_type": "markdown",
   "id": "de3ffcd7-ee79-4f28-9548-93232b70d9d8",
   "metadata": {},
   "source": [
    "### Q2. What is DDL? Explain why CREATE, DROP, ALTER, and TRUNCATE are used with an example."
   ]
  },
  {
   "cell_type": "markdown",
   "id": "33d33a46-36f5-4480-a84d-67093bcbb7f2",
   "metadata": {},
   "source": [
    "DDL stands for Data Definition Language, which is a set of SQL commands used to create, modify, and delete database objects such as tables, views, indexes, and sequences. Some common DDL commands include CREATE, ALTER, and DROP. These commands are used to create new objects in a database, modify existing objects, and delete objects from the database, respectively."
   ]
  },
  {
   "cell_type": "markdown",
   "id": "0c30d265-f890-4fc6-b603-718508207364",
   "metadata": {},
   "source": [
    "__CREATE__ In a Relational Database Management System (RDBMS), the CREATE command is used to create new database objects such as tables, indexes, views, stored procedures, and triggers. \n",
    "\n",
    "In the below eg. a new table named 'user' is created using CREATE command, there are four columns named 'Id', 'Name', 'Email Id' is created with their data types and 'Id' is kept the primary key."
   ]
  },
  {
   "cell_type": "code",
   "execution_count": null,
   "id": "581596dd-5a30-463c-abdb-63eda7aa6fb5",
   "metadata": {},
   "outputs": [],
   "source": [
    "CREATE TABLE users(                   \n",
    "    Id INT,\n",
    "    Name VARCHAR (20),\n",
    "    Email Id VARCHAR (20),\n",
    "    PRIMARY KEY(Id)   \n",
    ");"
   ]
  },
  {
   "cell_type": "markdown",
   "id": "6d2010ec-a8ae-4206-94f5-016ad6a31827",
   "metadata": {},
   "source": [
    "__DROP__ command is used to delete or remove a table, index, view, or other database object from a database. This command can be used to remove an entire table, along with all of its data, or to remove specific database objects like indexes or views. \n",
    "\n",
    "In the below eg. DROP command is used to delete the 'user' table."
   ]
  },
  {
   "cell_type": "code",
   "execution_count": null,
   "id": "29d0c59b-778f-4f95-b1f3-2e829f5ad6ab",
   "metadata": {},
   "outputs": [],
   "source": [
    "DROP TABLE user;"
   ]
  },
  {
   "cell_type": "markdown",
   "id": "3910598a-0073-459f-92f2-f07a4aaa992f",
   "metadata": {},
   "source": [
    "__ALTER__ statement in SQL is used to modify an existing database table or its columns. It allows you to add, delete, or modify columns in an existing table, or change the data type of an existing column. In the below eg. 'user' table got altered by adding a new coloumn 'date_of_birth', 'DATE' as their datatype."
   ]
  },
  {
   "cell_type": "code",
   "execution_count": null,
   "id": "53aeb9f9-1581-4154-8255-b0da38d16bb8",
   "metadata": {},
   "outputs": [],
   "source": [
    "ALTER TABLE user\n",
    "ADD COLOUMN date_of_birth DATE;"
   ]
  },
  {
   "cell_type": "markdown",
   "id": "f19a6ad3-b9ed-4c75-bd57-155334e22381",
   "metadata": {},
   "source": [
    "__TRUNCATE__ is a SQL command that is used to delete all the rows of a table, while keeping its structure intact. The TRUNCATE command is similar to the DELETE command, but it is faster as it doesn't log each row deletion. Here in the below eg. user table truncated by 'TRUNCATE' command."
   ]
  },
  {
   "cell_type": "raw",
   "id": "1418f53b-c4ab-450b-8023-b71bcf1d0c37",
   "metadata": {},
   "source": [
    "TRUNCATE TABLE users;"
   ]
  },
  {
   "cell_type": "markdown",
   "id": "455ad84a-1e6d-4c5d-a4d4-3661cb79b60b",
   "metadata": {},
   "source": [
    "### Q3. What is DML? Explain INSERT, UPDATE, and DELETE with an example."
   ]
  },
  {
   "cell_type": "markdown",
   "id": "1e2fd0a2-62b0-48a4-8224-cf17869c9261",
   "metadata": {},
   "source": [
    "DML stands for Data Manipulation Language. It is a subset of SQL used to manipulate and query data within a database. It includes commands such as SELECT, INSERT, UPDATE, DELETE, etc.\n",
    "\n",
    "The primary function of DML is to allow users to manipulate data stored in the database. Using DML commands, users can retrieve, insert, update or delete data from a database. These commands are used to interact with the data and change the contents of the database."
   ]
  },
  {
   "cell_type": "markdown",
   "id": "58d5e824-6136-402a-9528-a5078e4e5420",
   "metadata": {},
   "source": [
    "__INSERT__ In SQL, the INSERT statement is used to add new rows of data to an existing table.\n",
    "\n",
    "This statement will add a new row to the students table with the values 1, 'John', and 22 in the id, name, and age columns, respectively."
   ]
  },
  {
   "cell_type": "raw",
   "id": "b21e0a71-d2e4-4979-9ca0-50c8078aa7de",
   "metadata": {},
   "source": [
    "INSERT INTO students(id, name, age )\n",
    "VALUES (101, 'Ayush', 16)"
   ]
  },
  {
   "cell_type": "markdown",
   "id": "63f7e076-e81c-410b-8106-c9b6201584b4",
   "metadata": {},
   "source": [
    "__UPDATE__ In SQL, UPDATE statement is used to modify existing records in a table. \n",
    "\n",
    "In the below eg. table 'students' is getting updated, we're updating age to 25, where name is 'Ayush'."
   ]
  },
  {
   "cell_type": "raw",
   "id": "27cda841-ee35-45c7-b186-e649b46bb235",
   "metadata": {},
   "source": [
    "UPDATE students\n",
    "SET age = 25\n",
    "WHERE name = 'Ayush';"
   ]
  },
  {
   "cell_type": "markdown",
   "id": "68636cf4-2ac0-4e0d-b447-014d0fa9f83c",
   "metadata": {},
   "source": [
    "__DELETE__ is a command used in SQL to delete one or more rows from a table. It is part of the Data Manipulation Language (DML) category of SQL commands.\n",
    "\n",
    "In the below eg. we're deleting row where 'id' is 101."
   ]
  },
  {
   "cell_type": "raw",
   "id": "8198dcb8-c6ed-4336-8d5f-67f54798935c",
   "metadata": {},
   "source": [
    "DELETE FROM students, WHERE id = 101;"
   ]
  },
  {
   "cell_type": "markdown",
   "id": "d68cf36d-3e05-47a3-aa6f-7fbd59a5d006",
   "metadata": {},
   "source": [
    "### Q4. What is DQL? Explain SELECT with an example."
   ]
  },
  {
   "cell_type": "markdown",
   "id": "c211337e-09e9-4af8-abff-9e54418a0a57",
   "metadata": {},
   "source": [
    "DQL stands for Data Query Language. It is a sub-language of SQL (Structured Query Language) used to retrieve data from a database. DQL includes various commands and statements that allow users to query a database to extract the data that meets a specified set of criteria.\n",
    "\n",
    "The primary command in DQL is SELECT, which is used to retrieve data from one or more tables in a database. Other commands and clauses such as WHERE, ORDER BY, GROUP BY, JOIN, and HAVING are used to refine and sort the data retrieved by SELECT."
   ]
  },
  {
   "cell_type": "raw",
   "id": "4dc65bb7-db03-4486-ae40-80611f826d1f",
   "metadata": {},
   "source": [
    "SELECT * FROM students;"
   ]
  },
  {
   "cell_type": "markdown",
   "id": "736506c6-8e56-40a6-9db5-e889521b155c",
   "metadata": {},
   "source": [
    "This will return all the data from the \"students\" table. We can also specify which columns we want to retrieve by listing them after the SELECT keyword, separated by commas. For example, to retrieve only the \"id\" and \"name\" columns, we can use:"
   ]
  },
  {
   "cell_type": "raw",
   "id": "f984d2b1-26c5-43ec-9ca2-3a67002af584",
   "metadata": {},
   "source": [
    "SELECT id, name FROM students;"
   ]
  },
  {
   "cell_type": "markdown",
   "id": "45e0df3b-8e40-41e7-a301-a58d6a119ac3",
   "metadata": {},
   "source": [
    "### Q5. Explain Primary Key and Foreign Key."
   ]
  },
  {
   "cell_type": "markdown",
   "id": "8ea2999b-89b8-494a-ad40-699289617dc9",
   "metadata": {},
   "source": [
    "__PRIMARY KEY__ In a database table, a primary key is a column or group of columns that uniquely identifies each record in the table. It is a constraint that ensures that the data in the column or group of columns is unique for each row."
   ]
  },
  {
   "cell_type": "markdown",
   "id": "11b57c11-c13b-4afb-81f8-4da60bcf6a69",
   "metadata": {},
   "source": [
    "__FOREIGN KEY__ A foreign key is a column in a table that references the primary key of another table. It is a way to link two tables together and create a relationship between them. The foreign key in one table matches the primary key of another table"
   ]
  },
  {
   "cell_type": "markdown",
   "id": "12b617e6-f0f2-4b72-80cb-12abda52a6e2",
   "metadata": {},
   "source": [
    "### Q6. Write a python code to connect MySQL to python. Explain the cursor() and execute() method."
   ]
  },
  {
   "cell_type": "raw",
   "id": "3aa05b8e-3e1a-4b0f-8559-5be6b4e81f1f",
   "metadata": {
    "jp-MarkdownHeadingCollapsed": true,
    "tags": []
   },
   "source": [
    "'''\n",
    "import mysql.connector\n",
    "\n",
    "my_database= mysql.connector.connect(\n",
    "host='xxxxxx'           \n",
    "user='xxxxxx'              \n",
    "password='xxxxxx'           \n",
    ")\n",
    "\n",
    "mycursor = my_database.cursor()  \n",
    "\n",
    "\n",
    "mycursor.execute(\"SHOW DATABASE\")   \n",
    "for i in mycursor:                  \n",
    "    print(i)\n",
    "'''"
   ]
  },
  {
   "cell_type": "markdown",
   "id": "061a82dc-65d0-48f1-86ad-125966a07c8b",
   "metadata": {},
   "source": [
    "__CURSOR__  is an object used to interact with a database. It allows you to execute SQL statements and retrieve data from the database. A cursor is created by calling the cursor() method of a database connection object. The cursor has a number of methods for executing SQL commands, including execute(), executemany(), and fetchone().\n",
    "\n",
    "After you are done using a cursor, you should call its close() method to release any database resources it may be holding."
   ]
  },
  {
   "cell_type": "markdown",
   "id": "2ae15452-6220-40fb-a53f-ac58122e8e74",
   "metadata": {},
   "source": [
    "__EXECUTE__  is a method that is used to execute a SQL query on a database. It is typically used with a database cursor object, which allows you to traverse and manipulate the rows in the result set of the query. \n",
    "\n",
    "The execute() method is used to execute an SQL command that does not return any rows, such as a CREATE TABLE or INSERT statement."
   ]
  },
  {
   "cell_type": "markdown",
   "id": "b35cc3ef-e102-449d-b875-7d84ce599555",
   "metadata": {},
   "source": [
    "### Q7. Give the order of execution of SQL clauses in an SQL query."
   ]
  },
  {
   "cell_type": "markdown",
   "id": "9ad67f77-618b-4218-8112-680f71815f94",
   "metadata": {},
   "source": [
    "The typical order of execution of clauses in a SELECT SQL query is as follows:\n",
    "\n",
    "1. FROM - specifies the table or tables to be queried.\n",
    "2. JOIN - combines rows from two or more tables.\n",
    "3. WHERE - filters the rows based on specified conditions.\n",
    "4. GROUP BY - groups the rows based on specified columns.\n",
    "5. HAVING - filters the groups based on specified conditions.\n",
    "6. SELECT - selects the columns to be returned in the result set.\n",
    "7. ORDER BY - sorts the rows based on specified columns.\n",
    "8. LIMIT - specifies the maximum number of rows to be returned in the result set.\n",
    "\n",
    "It's important to note that not all SQL queries will include all of these clauses, and the order may vary depending on the specific query being executed."
   ]
  },
  {
   "cell_type": "code",
   "execution_count": null,
   "id": "39506c61-d937-464e-af91-c44183e5b1d8",
   "metadata": {},
   "outputs": [],
   "source": []
  }
 ],
 "metadata": {
  "kernelspec": {
   "display_name": "Python 3 (ipykernel)",
   "language": "python",
   "name": "python3"
  },
  "language_info": {
   "codemirror_mode": {
    "name": "ipython",
    "version": 3
   },
   "file_extension": ".py",
   "mimetype": "text/x-python",
   "name": "python",
   "nbconvert_exporter": "python",
   "pygments_lexer": "ipython3",
   "version": "3.10.8"
  }
 },
 "nbformat": 4,
 "nbformat_minor": 5
}
