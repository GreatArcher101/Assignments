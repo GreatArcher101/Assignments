{
 "cells": [
  {
   "cell_type": "markdown",
   "id": "aeb8be4a-8363-4068-aadf-f8d08de3171c",
   "metadata": {},
   "source": [
    "## What is Statistics?"
   ]
  },
  {
   "cell_type": "markdown",
   "id": "1b1602c1-676b-4847-b301-ea6a507cf658",
   "metadata": {},
   "source": [
    "Statistics is a branch of mathematics that deals with the collection, analysis, interpretation, presentation, and organization of data. It involves using quantitative methods to extract meaningful insights and knowledge from data, and to make informed decisions based on that information."
   ]
  },
  {
   "cell_type": "markdown",
   "id": "927e8ac4-231b-4b66-8942-6f69ce309235",
   "metadata": {},
   "source": [
    "## Define the different types of statistics and give an example of when each type might be used."
   ]
  },
  {
   "cell_type": "markdown",
   "id": "4eba37b3-10f2-47eb-a36b-461ac6787abe",
   "metadata": {},
   "source": [
    "There are two main types of statistics: descriptive statistics and inferential statistics.\n",
    "\n",
    "1. Descriptive Statistics: Descriptive statistics refers to the methods and techniques used to summarize and describe the characteristics of a data set. Some of its eg.s are mean, median, and mode, measures of dispersion such as variance and standard deviation, and graphical representations such as histograms and box plots.\n",
    "\n",
    "Example :\n",
    "\n",
    "A company wants to know the average age of its employees, so it collects data on the ages of all its employees and calculates the mean age, which is a measure of central tendency."
   ]
  },
  {
   "cell_type": "markdown",
   "id": "f3cf7c48-fa60-4ce1-8f4a-2862a9f01195",
   "metadata": {},
   "source": [
    "2. Inferential Statistics: Inferential statistics involves using sample data to make inferences or predictions about a larger population. This type of statistics uses probability theory to make estimates, test hypotheses, and make predictions. Inferential statistics are often used in scientific research and business analysis.\n",
    "\n",
    "Example: \n",
    "\n",
    "A healthcare company wants to know if a new drug is effective in treating a certain condition. It conducts a randomized controlled trial in which half the patients receive the drug and half receive a placebo. By comparing the outcomes between the two groups, the company can infer whether the drug is effective for the larger population of patients with the condition."
   ]
  },
  {
   "cell_type": "markdown",
   "id": "bd5fd9ff-d173-4df7-8d35-306388620e72",
   "metadata": {},
   "source": [
    "## What are the different types of data and how do they differ from each other? Provide an example of each type of data."
   ]
  },
  {
   "cell_type": "markdown",
   "id": "d991353e-1618-481b-8c1d-a8ebdd98ea70",
   "metadata": {},
   "source": [
    "There are 2 main types of data: Qualitative and Quantitative. \n",
    "\n",
    "1. Qualitative data: This type of data describes qualities or characteristics and cannot be expressed numerically. Examples include hair color (blonde, brown, black), eye color (blue, green, brown), or favorite color (red, blue, green). These are further divided into 2 data types, ordenal and nomianl\n",
    "\n",
    ">   a. Nominal data: This type of data consists of categories that cannot be ordered or ranked. Examples include gender (male, female), race (Caucasian, African American, Asian, etc.), or marital status (single, married, divorced, etc.).\n",
    "\n",
    ">   b. Ordinal data: This type of data consists of categories that can be ordered or ranked. Examples include education level (high school, college, graduate degree), income level (low, medium, high), or rating scales (poor, fair, good, excellent).\n",
    "\n",
    "2. Quantitative data: This type of data describes numerical measurements or quantities. Examples include age (in years), weight (in pounds or kilograms), height (in inches or centimeters), or income (in dollars).\n",
    "\n",
    ">   a. Discrete data: This type of data is finite and countable. Examples include number of children in a family, number of pets in a household, or number of cars owned by a person.\n",
    "\n",
    ">   b. Continuous data: This type of data is measured on a continuous scale and can take on any value within a certain range. Examples include height, weight, temperature, or time.\n",
    "\n",
    "\n",
    "The key difference between these types of data is the level of measurement and the properties of the data. Nominal and ordinal data are both categorical data, but ordinal data has a meaningful order while nominal data does not. Discrete and Continuous data are both numerical data, but discrete has a specific range, which continuous data doesn't have.\n"
   ]
  },
  {
   "cell_type": "markdown",
   "id": "e77f798c-05c5-4ffa-8366-d8d57df287f8",
   "metadata": {},
   "source": [
    "## Categorise the following datasets with respect to quantitative and qualitative data types:\n",
    "\n",
    "#### (i) Grading in exam: A+, A, B+, B, C+, C, D, E\n",
    "> Qualitative (Ordinal)\n",
    "#### (ii) Colour of mangoes: yellow, green, orange, red\n",
    "> Qualitative (Nominal)\n",
    "#### (iii) Height data of a class: [178.9, 179, 179.5, 176, 177.2, 178.3, 175.8,...]\n",
    "> Quantitative (Continuous)\n",
    "#### (iv) Number of mangoes exported by a farm: [500, 600, 478, 672, ...]\n",
    "> Quantitative (Discrete)"
   ]
  },
  {
   "cell_type": "markdown",
   "id": "80695c1c-00c7-4113-986f-79de1a7773cd",
   "metadata": {},
   "source": [
    "## Explain the concept of levels of measurement and give an example of a variable for each level."
   ]
  },
  {
   "cell_type": "markdown",
   "id": "fa36f533-b0c1-43b5-b68f-299214c6ecbe",
   "metadata": {},
   "source": [
    "Levels of measurement refer to the different ways in which data can be classified and categorized based on their properties. There are four levels of measurement: nominal, ordinal, interval, and ratio.\n",
    "\n",
    "> Nominal level: This is the lowest level of measurement where data are classified into categories or labels. Data at this level cannot be arranged in any meaningful order, and arithmetic operations cannot be performed on them. An example of a variable at this level is gender, where data can be classified as male or female.\n",
    "\n",
    "> Ordinal level: Data at this level can be arranged in a meaningful order or ranking, but the intervals between the values are not uniform. Arithmetic operations cannot be performed on these data. An example of a variable at this level is educational level, where data can be classified as primary school, high school, undergraduate, and graduate.\n",
    "\n",
    "> Interval level: At this level, the data are numerical, and the intervals between the values are uniform, but there is no true zero point. Therefore, ratios cannot be formed between the values. An example of a variable at this level is temperature measured in Celsius or Fahrenheit.\n",
    "\n",
    "> Ratio level: This is the highest level of measurement, where the data are numerical, and the intervals between the values are uniform. Additionally, there is a true zero point, which allows for the formation of meaningful ratios between the values. An example of a variable at this level is weight or height, where zero weight or height indicates the absence of the characteristic being measured.\n",
    "\n",
    "\n",
    "\n"
   ]
  },
  {
   "cell_type": "markdown",
   "id": "f20e2f57-93c4-47c0-86d6-23ee47af8921",
   "metadata": {},
   "source": [
    "## Why is it important to understand the level of measurement when analyzing data? Provide an example to illustrate your answer."
   ]
  },
  {
   "cell_type": "markdown",
   "id": "bafb241a-8502-44b4-9c9a-59d57472edd4",
   "metadata": {},
   "source": [
    "Understanding the level of measurement is important when analyzing data because it determines the types of statistical analyses that can be performed on the data. Each level of measurement has different properties and requires different statistical tools. For example, nominal data cannot be ranked or ordered, so measures of central tendency such as the mean or median are not applicable. Instead, frequencies and percentages are used to describe the data. On the other hand, interval or ratio data can be ranked and ordered, so measures of central tendency such as the mean or median can be calculated.\n",
    "\n",
    "Consider an example of a study that collects data on the type of transportation used by employees to commute to work. The data is collected as nominal data where the categories are \"car\", \"bus\", \"train\", and \"walk\". If the researcher is interested in describing the most common mode of transportation used by the employees, they would need to use frequency counts and percentages since measures of central tendency are not appropriate for nominal data. However, if the researcher is interested in comparing the commuting times between different modes of transportation, they would need to use measures of central tendency such as the mean or median, which are appropriate for interval or ratio data. Thus, understanding the level of measurement is important in determining the appropriate statistical tools to use for a given analysis."
   ]
  },
  {
   "cell_type": "markdown",
   "id": "f1ced13e-d550-4e15-996d-f177f6628965",
   "metadata": {},
   "source": [
    "## How nominal data type is different from ordinal data type."
   ]
  },
  {
   "cell_type": "markdown",
   "id": "5030dd75-adf9-40b6-a48f-5ae2ffd8b86d",
   "metadata": {},
   "source": [
    "Nominal and ordinal data are both categorical data, but ordinal data has a meaningful order while nominal data does not."
   ]
  },
  {
   "cell_type": "markdown",
   "id": "6f8fb4c4-5c06-4962-a7eb-d6cbbb0e2c65",
   "metadata": {},
   "source": [
    "## Which type of plot can be used to display data in terms of range?"
   ]
  },
  {
   "cell_type": "markdown",
   "id": "3917bb2d-e2c8-4d2d-bc43-b7949be66ef4",
   "metadata": {},
   "source": [
    "A box plot can be used to display data in terms of range."
   ]
  },
  {
   "cell_type": "markdown",
   "id": "e253270c-fa09-477b-8e29-ade881bddf24",
   "metadata": {},
   "source": [
    "## Describe the difference between descriptive and inferential statistics. Give an example of each type of statistics and explain how they are used."
   ]
  },
  {
   "cell_type": "markdown",
   "id": "4182eb9e-6b1f-4cf0-9570-c773f25f9c77",
   "metadata": {},
   "source": [
    "Descriptive statistics and inferential statistics are two branches of statistics that are used to analyze and interpret data.\n",
    "\n",
    "__Descriptive statistics__ is concerned with summarizing and describing the characteristics of a sample or population. It is used to present and analyze data in a meaningful way, such as measures of central tendency (e.g. mean, median, mode) and measures of variability (e.g. standard deviation, range). Descriptive statistics provide an overview of the data and are useful in making comparisons between different sets of data. For example, the average age of students in a classroom, the number of customers in a store per day, or the distribution of test scores in a class.\n",
    "\n",
    "__Inferential statistics__, on the other hand, is concerned with making generalizations about a population based on a sample of data. It uses probability theory to draw conclusions about the population based on the characteristics of the sample. Inferential statistics are used to test hypotheses and make predictions about a population based on a sample. For example, determining whether a new drug is effective based on a clinical trial, or predicting the outcome of an election based on a survey.\n",
    "\n",
    "An example of descriptive statistics would be calculating the mean and standard deviation of the weights of a sample of apples in a fruit farm. This would provide an overview of the sample and help in understanding the central tendency and variability of the weights.\n",
    "\n",
    "An example of inferential statistics would be using a random sample of customers to estimate the average monthly spending of all customers in a store. This would involve using statistical methods to make predictions and draw conclusions about the population based on the characteristics of the sample.\n"
   ]
  },
  {
   "cell_type": "markdown",
   "id": "6669d8bc-653c-426d-b905-38e4ea08ec80",
   "metadata": {},
   "source": [
    "## What are some common measures of central tendency and variability used in statistics? Explain how each measure can be used to describe a dataset."
   ]
  },
  {
   "cell_type": "markdown",
   "id": "8f1ae196-9439-4c9c-9754-387835e3b6ac",
   "metadata": {},
   "source": [
    "Measures of central tendency and variability are commonly used in statistics to describe and summarize a dataset.\n",
    "\n",
    "Measures of central tendency refer to the middle or typical value of a dataset. The most commonly used measures of central tendency are:\n",
    "\n",
    "> Mean: The arithmetic mean is the sum of all values in the dataset divided by the number of observations. It is used to describe the average value of the dataset. For example, the mean salary of a group of employees.\n",
    "\n",
    "> Median: The median is the middle value in a dataset. It is used when the dataset is skewed or has outliers. For example, the median income of a group of households.\n",
    "\n",
    "> Mode: The mode is the value that appears most frequently in a dataset. It is used when the dataset is discrete or categorical. For example, the mode of favorite color in a group of people.\n",
    "\n",
    "Measures of variability refer to the spread or dispersion of values in a dataset. The most commonly used measures of variability are:\n",
    "\n",
    "> Range: The range is the difference between the largest and smallest value in a dataset. It is used to describe the spread of the dataset. For example, the range of temperatures in a day.\n",
    "\n",
    "> Variance: The variance is the average of the squared differences of each value from the mean. It is used to describe the variability of the dataset. For example, the variance of test scores in a class.\n",
    "\n",
    "> Standard deviation: The standard deviation is the square root of the variance. It is used to describe the spread of the dataset in relation to the mean. For example, the standard deviation of age in a group of people.\n",
    "\n",
    "Each measure of central tendency and variability provides different information about the dataset and can be used to understand the characteristics of the data."
   ]
  }
 ],
 "metadata": {
  "kernelspec": {
   "display_name": "Python 3 (ipykernel)",
   "language": "python",
   "name": "python3"
  },
  "language_info": {
   "codemirror_mode": {
    "name": "ipython",
    "version": 3
   },
   "file_extension": ".py",
   "mimetype": "text/x-python",
   "name": "python",
   "nbconvert_exporter": "python",
   "pygments_lexer": "ipython3",
   "version": "3.10.8"
  }
 },
 "nbformat": 4,
 "nbformat_minor": 5
}
