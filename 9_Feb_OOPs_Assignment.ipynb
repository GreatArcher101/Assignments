{
 "cells": [
  {
   "cell_type": "markdown",
   "id": "1a04fbe6-3bf7-416e-bd9b-16753747fd7f",
   "metadata": {},
   "source": [
    "## Soluntion 1 & 2"
   ]
  },
  {
   "cell_type": "code",
   "execution_count": 11,
   "id": "0a899b58-6287-416d-80d9-03f875b6c22b",
   "metadata": {},
   "outputs": [],
   "source": [
    "class vehicle:\n",
    "    def __init__(self, name_of_vehicle, max_speed, average_of_vehicle):\n",
    "        self.name_of_vehicle=name_of_vehicle\n",
    "        self.max_speed=max_speed\n",
    "        self.average_of_vehicle=average_of_vehicle"
   ]
  },
  {
   "cell_type": "code",
   "execution_count": 12,
   "id": "37352ede-6ee9-4547-a9d5-8745f34e58a4",
   "metadata": {},
   "outputs": [],
   "source": [
    "class car(vehicle):\n",
    "    def seating_capacity(self,capacity):\n",
    "        return self.name_of_vehicle, capacity"
   ]
  },
  {
   "cell_type": "code",
   "execution_count": 13,
   "id": "f1be3031-1502-493a-af87-5a85539c204e",
   "metadata": {},
   "outputs": [],
   "source": [
    "obj=car(\"toyota\",120,15)"
   ]
  },
  {
   "cell_type": "code",
   "execution_count": 14,
   "id": "690fbbfa-f92d-4ce1-9243-f02e2da85df6",
   "metadata": {},
   "outputs": [
    {
     "data": {
      "text/plain": [
       "('toyota', 5)"
      ]
     },
     "execution_count": 14,
     "metadata": {},
     "output_type": "execute_result"
    }
   ],
   "source": [
    "obj.seating_capacity(5)"
   ]
  },
  {
   "cell_type": "markdown",
   "id": "d8df0999-46a9-448e-ade1-efad0b15795c",
   "metadata": {},
   "source": [
    "## Solution 3"
   ]
  },
  {
   "cell_type": "markdown",
   "id": "9c87a8d7-03b2-4b84-a5c8-cd22b3ed1218",
   "metadata": {},
   "source": [
    "Multiple inheritance is a feature of some object-oriented computer programming languages in which an object or class can inherit features from more than one parent object or parent class."
   ]
  },
  {
   "cell_type": "code",
   "execution_count": 16,
   "id": "474d745f-562d-4098-88b4-3c5d7519a60f",
   "metadata": {},
   "outputs": [
    {
     "name": "stdout",
     "output_type": "stream",
     "text": [
      "feature2 works\n",
      "feature1 works\n",
      "feature2 works\n"
     ]
    }
   ],
   "source": [
    "# multiple inheritance\n",
    "\n",
    "# base class 1\n",
    "class i:\n",
    "    def feature1(self):             \n",
    "        print(\"feature1 works\")\n",
    "        \n",
    "      \n",
    " #base class 2 \n",
    "class j:\n",
    "    def feature2(self):\n",
    "        print(\"feature2 works\")\n",
    "        \n",
    " ##derived class, as features of class i and class j has in class k\n",
    "class k(i,j):\n",
    "    def feature3(self):\n",
    "        print(\"feature3 works\")\n",
    "        \n",
    " #object assigning\n",
    "a=j()\n",
    "b=k()\n",
    " #calling func\n",
    "a.feature2()   # object of base 2 class can only invoke its own fucn\n",
    "b.feature1()    # object of derived class can invoke fuc from both the base classes\n",
    "b.feature2()"
   ]
  },
  {
   "cell_type": "markdown",
   "id": "891a1b87-d2f8-4ec7-97b1-227dbd79411f",
   "metadata": {},
   "source": [
    "## Solution 4"
   ]
  },
  {
   "cell_type": "markdown",
   "id": "aab8b2ff-9ad7-4844-bd23-e0c116d07081",
   "metadata": {},
   "source": [
    "The main purpose of using getters and setters in object-oriented programs is to ensure data encapsulation. Private variables in python are not actually hidden fields like in other object oriented languages. Getters and Setters in python are often used when:\n",
    "\n",
    "We use getters & setters to add validation logic around getting and setting a value.\n",
    "To avoid direct access of a class field i.e. private variables cannot be accessed directly or modified by external user.\n",
    "\n",
    "Getter is used to get the data of certain arguments on which is called upon.\n",
    "Setter is used to set the data or vary the data of arguement on which is called upon."
   ]
  },
  {
   "cell_type": "code",
   "execution_count": 26,
   "id": "58f9bdcd-6205-4703-b4b7-f91a6b514539",
   "metadata": {},
   "outputs": [],
   "source": [
    "class employee:\n",
    "    def __init__(self,name,age,salary):\n",
    "        self.__name=name\n",
    "        self.__age=age\n",
    "        self.__salary=0\n",
    "        \n",
    "    def get_salary(self):\n",
    "        return self.__salary\n",
    "    \n",
    "    def set_salary(self,salary):\n",
    "        self.__salary = 0 if salary<0 else salary\n",
    "        \n",
    "        \n",
    "obj=employee(\"ramesh\",25,3000)"
   ]
  },
  {
   "cell_type": "code",
   "execution_count": 29,
   "id": "5f4f172f-194a-48a4-818d-7206d042268b",
   "metadata": {},
   "outputs": [],
   "source": [
    "obj.set_salary(3000)"
   ]
  },
  {
   "cell_type": "code",
   "execution_count": 30,
   "id": "7bd0942d-43da-4449-930b-4d8b4660eb7a",
   "metadata": {},
   "outputs": [
    {
     "data": {
      "text/plain": [
       "3000"
      ]
     },
     "execution_count": 30,
     "metadata": {},
     "output_type": "execute_result"
    }
   ],
   "source": [
    "obj.get_salary()"
   ]
  },
  {
   "cell_type": "markdown",
   "id": "7a5d9060-d59d-4105-bf05-8d6a181c6b55",
   "metadata": {},
   "source": [
    "## Solution 5"
   ]
  },
  {
   "cell_type": "markdown",
   "id": "f814987d-3848-442e-9f98-5c158cf9ddd1",
   "metadata": {},
   "source": [
    "Method overriding is an ability of any object-oriented programming language that allows a subclass or child class to provide a specific implementation of a method that is already provided by one of its super-classes or parent classes. When a method in a subclass has the same name, same parameters or signature and same return type(or sub-type) as a method in its super-class, then the method in the subclass is said to override the method in the super-class."
   ]
  },
  {
   "cell_type": "code",
   "execution_count": 34,
   "id": "76052508-a226-4fce-aa29-a7fcda01f059",
   "metadata": {},
   "outputs": [],
   "source": [
    "class a:\n",
    "    def m(self):\n",
    "        print(\"I'm func of A-m\")\n",
    "        \n",
    "    def n(self):\n",
    "        print(\"I'm func of A-n\")\n",
    "        \n",
    "class b(a):\n",
    "    def p(self):\n",
    "        print(\"I'm func of B-p\")\n",
    "    \n",
    "    def m(self):\n",
    "        print(\"I'm func of B-m\")\n",
    "        \n",
    "obj=b()"
   ]
  },
  {
   "cell_type": "code",
   "execution_count": 35,
   "id": "66fffa94-a98c-44f0-849e-96add1afdcf2",
   "metadata": {},
   "outputs": [
    {
     "name": "stdout",
     "output_type": "stream",
     "text": [
      "I'm func of B-m\n"
     ]
    }
   ],
   "source": [
    "''' object of class b can call 3 func m,n,p out of which m is common in both the classes \n",
    "while calling m instead of calling func of class a it calls func of b as obj is object of b.\n",
    "It saves memory by overriding the fucntion.\n",
    "\n",
    "'''\n",
    "obj.m()  "
   ]
  },
  {
   "cell_type": "code",
   "execution_count": null,
   "id": "1c12bb52-6968-43c5-a6fd-497dafa24b60",
   "metadata": {},
   "outputs": [],
   "source": []
  }
 ],
 "metadata": {
  "kernelspec": {
   "display_name": "Python 3 (ipykernel)",
   "language": "python",
   "name": "python3"
  },
  "language_info": {
   "codemirror_mode": {
    "name": "ipython",
    "version": 3
   },
   "file_extension": ".py",
   "mimetype": "text/x-python",
   "name": "python",
   "nbconvert_exporter": "python",
   "pygments_lexer": "ipython3",
   "version": "3.10.8"
  }
 },
 "nbformat": 4,
 "nbformat_minor": 5
}
