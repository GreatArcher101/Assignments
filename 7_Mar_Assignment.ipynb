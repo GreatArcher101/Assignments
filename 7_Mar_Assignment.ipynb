{
 "cells": [
  {
   "cell_type": "markdown",
   "id": "a1ae4ad9-61b9-4f7e-83a0-123577dba0dd",
   "metadata": {},
   "source": [
    "## What are the three measures of central tendency?"
   ]
  },
  {
   "cell_type": "markdown",
   "id": "38bd28f2-47aa-4653-8a00-c2509fb4a73e",
   "metadata": {},
   "source": [
    "The three measures of central tendency are:\n",
    "\n",
    "1. Mean: It is calculated by summing up all the values in a dataset and dividing by the total number of values. It is the most commonly used measure of central tendency.\n",
    "\n",
    "2. Median: It is the middle value in a dataset when the values are arranged in order. If the dataset has an even number of values, then the median is the average of the two middle values.\n",
    "\n",
    "3. Mode: It is the value that appears most frequently in a dataset. A dataset may have one mode (unimodal) or more than one mode (multimodal)."
   ]
  },
  {
   "cell_type": "markdown",
   "id": "ac185c19-6837-4485-80bd-2d48745f733f",
   "metadata": {},
   "source": [
    "## What is the difference between the mean, median, and mode? How are they used to measure the central tendency of a dataset?"
   ]
  },
  {
   "cell_type": "markdown",
   "id": "91e08ef4-7e90-4263-b4f5-52ced7b8b602",
   "metadata": {},
   "source": [
    "The mean, median, and mode are all measures of central tendency used to describe the \"average\" value in a dataset, but they are calculated differently and have different interpretations:\n",
    "\n",
    "1. Mean represents the \"average\" value of the dataset and is sensitive to outliers or extreme values.\n",
    "\n",
    "> To find the median, you first arrange the values in the dataset in order from lowest to highest (or highest to lowest). Then, if the dataset has an odd number of values, the median is the middle value. For example, in the dataset 2, 4, 6, 8, the median is 6. If the dataset has an even number of values, the median is the average of the two middle values. For example, in the dataset 2, 4, 6, 8, 10, the median is (6+8)/2 = 7.\n",
    "\n",
    "2. Median is not affected by extreme values or outliers, making it a better measure of central tendency for datasets with skewed distributions.\n",
    "\n",
    "> To find the mode, you identify the value or values that occur most frequently in the dataset. For example, in the dataset 2, 4, 6, 8, 8, the mode is 8, because it appears twice and no other value appears more than once.\n",
    "\n",
    "3. Mode is useful for describing the most common value or category in a dataset, especially for categorical or nominal data.\n",
    "\n",
    "> These measures of central tendency are used to provide a summary of the \"average\" value or typical value in a dataset, which can be useful for describing the distribution of the data and making comparisons between different datasets.\n"
   ]
  },
  {
   "cell_type": "markdown",
   "id": "97dd9a9c-a8e5-485f-9a3f-3b3759164347",
   "metadata": {},
   "source": [
    "## Measure the three measures of central tendency for the given height data:"
   ]
  },
  {
   "cell_type": "code",
   "execution_count": 2,
   "id": "0fd445e6-5c4f-4598-8c18-b2148cd23e54",
   "metadata": {},
   "outputs": [],
   "source": [
    "data = [178,177,176,177,178.2,178,175,179,180,175,178.9,176.2,177,172.5,178,176.5]"
   ]
  },
  {
   "cell_type": "code",
   "execution_count": 9,
   "id": "e520ea8c-4810-4ece-ae95-f418ca847ce7",
   "metadata": {},
   "outputs": [
    {
     "name": "stdout",
     "output_type": "stream",
     "text": [
      "The mean of data is 177.01875\n",
      "The median of data is 177.0\n",
      "The mode of data is ModeResult(mode=array([177.]), count=array([3]))\n"
     ]
    },
    {
     "name": "stderr",
     "output_type": "stream",
     "text": [
      "/tmp/ipykernel_95/2362987795.py:6: FutureWarning: Unlike other reduction functions (e.g. `skew`, `kurtosis`), the default behavior of `mode` typically preserves the axis it acts along. In SciPy 1.11.0, this behavior will change: the default value of `keepdims` will become False, the `axis` over which the statistic is taken will be eliminated, and the value None will no longer be accepted. Set `keepdims` to True or False to avoid this warning.\n",
      "  mode = stats.mode(data)\n"
     ]
    }
   ],
   "source": [
    "import numpy as np\n",
    "from scipy import stats\n",
    "\n",
    "mean = np.mean(data)\n",
    "median = np.median(data)\n",
    "mode = stats.mode(data)\n",
    "\n",
    "print(f'The mean of data is {mean}\\nThe median of data is {median}\\nThe mode of data is {mode}')"
   ]
  },
  {
   "cell_type": "markdown",
   "id": "1d629a68-5a73-40b9-a67c-ea4d0e2d30b9",
   "metadata": {},
   "source": [
    "## Find the standard deviation for the given data:"
   ]
  },
  {
   "cell_type": "code",
   "execution_count": 10,
   "id": "d04e7d79-031b-4799-b854-033404e15ff6",
   "metadata": {},
   "outputs": [],
   "source": [
    "data1 = [178,177,176,177,178.2,178,175,179,180,175,178.9,176.2,177,172.5,178,176.5]"
   ]
  },
  {
   "cell_type": "code",
   "execution_count": 11,
   "id": "1a7d00a7-1bae-4d69-939a-d5030186da16",
   "metadata": {},
   "outputs": [
    {
     "data": {
      "text/plain": [
       "1.7885814036548633"
      ]
     },
     "execution_count": 11,
     "metadata": {},
     "output_type": "execute_result"
    }
   ],
   "source": [
    "np.std(data1)"
   ]
  },
  {
   "cell_type": "markdown",
   "id": "f74a9981-c1c3-48c0-8cdb-2e41634ef0b0",
   "metadata": {},
   "source": [
    "## How are measures of dispersion such as range, variance, and standard deviation used to describe the spread of a dataset? Provide an example."
   ]
  },
  {
   "cell_type": "markdown",
   "id": "f3096929-ff2a-42c1-a863-015ec92b5eff",
   "metadata": {},
   "source": [
    "Measures of dispersion such as range, variance, and standard deviation are used to describe the spread or variability of a dataset. They help to provide additional information beyond the central tendency measures by indicating how much the values in a dataset deviate from the central value or mean.\n",
    "\n",
    "1. Range: The range is the difference between the highest and lowest values in a dataset. It is a simple measure of dispersion that can be useful for quickly assessing the spread of a dataset. \n",
    "> For example, in the dataset 2, 4, 6, 8, 10, the range is 10-2=8.\n",
    "\n",
    "2. Variance: The variance is a measure of how much the values in a dataset deviate from the mean. It is calculated by subtracting each value from the mean, squaring the differences, adding them up, and dividing by the number of values minus one. \n",
    "> For example, consider the dataset 2, 4, 6, 8, 10. The mean is (2+4+6+8+10)/5=6. The differences between each value and the mean are -4, -2, 0, 2, and 4. Squaring these differences gives 16, 4, 0, 4, and 16. Adding these up gives 40. Dividing by 4 (the number of values minus one) gives a variance of 10.\n",
    "\n",
    "3. Standard deviation: The standard deviation is the square root of the variance. It is a commonly used measure of dispersion that indicates how much the values in a dataset are spread out around the mean. \n",
    "> For the same dataset used in the variance example, the standard deviation would be the square root of 10, which is approximately 3.16.\n",
    "\n",
    " They are useful for assessing the variability in a dataset and making comparisons between different datasets."
   ]
  },
  {
   "cell_type": "markdown",
   "id": "495def76-faa4-4c42-971d-3ca81d965af2",
   "metadata": {},
   "source": [
    "## What is a Venn diagram?"
   ]
  },
  {
   "cell_type": "markdown",
   "id": "c779a87d-371d-46d2-96c6-86c7325c41e2",
   "metadata": {},
   "source": [
    "A Venn diagram is a visual tool used to illustrate the relationships between sets of data. It consists of overlapping circles or other shapes, with each circle representing a set and the overlapping regions representing the intersection between sets."
   ]
  },
  {
   "cell_type": "markdown",
   "id": "583703c1-da22-4c7f-bfb5-45bbcb4fc161",
   "metadata": {},
   "source": [
    "## For the two given sets A = (2,3,4,5,6,7) & B = (0,2,6,8,10). Find:\n",
    "#### (i) A ∩ B\n",
    "> (A ∩ B) = (2,6)\n",
    "#### (ii) A ⋃ B\n",
    "> (A U B) = (0,2,3,4,5,6,7,8,10)"
   ]
  },
  {
   "cell_type": "markdown",
   "id": "50080397-2178-454f-8980-caaa27f74e14",
   "metadata": {},
   "source": [
    "## What do you understand about skewness in data?"
   ]
  },
  {
   "cell_type": "markdown",
   "id": "84867ee0-f934-4081-ac5e-591bf432502e",
   "metadata": {},
   "source": [
    "Skewness in data is a measure of the asymmetry of the distribution of values in a dataset. A dataset is said to be skewed if it is not symmetric, meaning that the distribution of values is not evenly distributed around the mean. In a skewed distribution, the tail of the distribution will be longer on one side than the other.\n",
    "\n",
    "Skewness can be described as positive, negative, or zero."
   ]
  },
  {
   "cell_type": "markdown",
   "id": "261348b2-27d2-4c3f-b701-2d2f1d875922",
   "metadata": {},
   "source": [
    "## If a data is right skewed then what will be the position of median with respect to mean?"
   ]
  },
  {
   "cell_type": "markdown",
   "id": "da261f35-8992-4843-86ba-30ee8901b26f",
   "metadata": {},
   "source": [
    "If a dataset is right-skewed, the median will typically be less than the mean. \n",
    "\n",
    "This is because the right-skewness is caused by a few large values in the dataset, which pull the mean towards the right or positive side of the distribution. As a result, the mean will be higher than the median, which represents the middle value of the dataset."
   ]
  },
  {
   "cell_type": "markdown",
   "id": "d5c66ecc-75e0-42c2-acfd-e8f67b0052f7",
   "metadata": {},
   "source": [
    "## Explain the difference between covariance and correlation. How are these measures used in statistical analysis?"
   ]
  },
  {
   "cell_type": "markdown",
   "id": "501d8010-8d58-409c-8c87-6268bc063ae1",
   "metadata": {},
   "source": [
    "Covariance and correlation are two measures that are used to describe the relationship between two variables in a dataset\n",
    "\n",
    "1. Covariance is a measure of the direction and strength of the linear relationship between two variables. It measures how much two variables change together. Specifically, covariance measures the degree to which the values of one variable co-vary with the values of another variable.\n",
    "> If two variables have a positive covariance, it means they tend to increase or decrease together. If two variables have a negative covariance, it means they tend to move in opposite directions.\n",
    "\n",
    "\n",
    "2. Correlation is a standardized measure of covariance, which makes it easier to compare relationships between variables that have different units of measurement. \n",
    "> A correlation of 1 indicates a perfect positive relationship between two variables, a correlation of -1 indicates a perfect negative relationship, and a correlation of 0 indicates no relationship."
   ]
  },
  {
   "cell_type": "markdown",
   "id": "01673292-20c0-4b1d-b93c-7ede006b613a",
   "metadata": {},
   "source": [
    "## What is the formula for calculating the sample mean? Provide an example calculation for a dataset."
   ]
  },
  {
   "cell_type": "markdown",
   "id": "e7484224-8175-4ae4-8bf4-5cf040a3b4d7",
   "metadata": {},
   "source": [
    "The formula for calculating the sample mean is:\n",
    "\n",
    "sample mean = sum of all data points / number of data points\n",
    "\n",
    "> For example, let's say we have the following dataset:\n",
    "\n",
    "> 3, 5, 6, 7, 2, 8, 9, 1\n",
    "\n",
    "To calculate the sample mean, we would first add up all the data points:\n",
    "\n",
    "3 + 5 + 6 + 7 + 2 + 8 + 9 + 1 = 41\n",
    "\n",
    "Next, we would divide by the number of data points, which in this case is 8:\n",
    "\n",
    "41 / 8 = 5.125\n",
    "\n",
    "Therefore, the sample mean for this dataset is 5.125.\n"
   ]
  },
  {
   "cell_type": "markdown",
   "id": "dde838de-333d-4d9f-b718-defa23c7349b",
   "metadata": {},
   "source": [
    "## For a normal distribution data what is the relationship between its measure of central tendency?"
   ]
  },
  {
   "cell_type": "markdown",
   "id": "eecca457-d984-4140-9d71-4eb2836a723e",
   "metadata": {},
   "source": [
    "For a normal distribution, the measures of central tendency (mean, median, and mode) are all equal to each other."
   ]
  },
  {
   "cell_type": "markdown",
   "id": "cbd7faac-91af-4367-9e4e-5249a2969448",
   "metadata": {},
   "source": [
    "## How is covariance different from correlation?"
   ]
  },
  {
   "cell_type": "markdown",
   "id": "a1ee4390-3ec5-4b99-ad91-9bce729b69ad",
   "metadata": {},
   "source": [
    "Covariance and correlation are both measures that describe the relationship between two variables in a dataset. However, they differ in their scale, interpretation, and usefulness.\n",
    "\n",
    "1. Scale: Covariance is not standardized, while correlation is standardized and ranges from -1 to 1.\n",
    "2. Interpretation: Covariance measures the degree to which two variables co-vary, while correlation measures the strength and direction of the linear relationship between two variables.\n",
    "3. Usefulness: Covariance can be difficult to interpret and compare across datasets because it is affected by the units of measurement of the variables, while correlation is a more useful and commonly used measure of the relationship between two variables because it is standardized and can be easily compared across datasets.\n"
   ]
  },
  {
   "cell_type": "markdown",
   "id": "3b005a34-ce0b-4083-9681-632bc2d31099",
   "metadata": {},
   "source": [
    "## How do outliers affect measures of central tendency and dispersion? Provide an example."
   ]
  },
  {
   "cell_type": "markdown",
   "id": "2485df9d-cb34-476f-981c-d50d0c0398ac",
   "metadata": {},
   "source": [
    "Outliers can have a significant impact on measures of central tendency and dispersion, especially on the mean and standard deviation.\n",
    "\n",
    "Lets take an example, \n",
    "we have a dataset of salaries : 20,000, 30,000, 45,000, 34,000, 50,000\n",
    "\n",
    "1. The mean of the salaries would be, \n",
    "\n",
    "   mean = (20,000 + 30,000 + 45,000 + 34,000 + 50,000)/5 = 35,800\n",
    "\n",
    "2. Let's add one more salary into the above dataset: 20,000, 30,000, 45,000, 34,000, 50,000, 1000,000\n",
    "\n",
    "   Now calculate mean of the new dataset,\n",
    "\n",
    "   mean = (20,000 + 30,000 + 45,000 + 34,000 + 50,000, 1000,000)/6 = 196,500\n",
    "\n",
    "\n",
    "We can clearly see difference by adding an outlier the mean is deflected too much."
   ]
  },
  {
   "cell_type": "code",
   "execution_count": 25,
   "id": "156ebd8b-2904-4c6a-9533-81a3922f932e",
   "metadata": {},
   "outputs": [],
   "source": [
    "dt = (20000 , 30000 , 45000 , 34000 , 50000, 1000000)"
   ]
  },
  {
   "cell_type": "code",
   "execution_count": 26,
   "id": "5bf96b01-374d-4c2d-961b-9ab362871a69",
   "metadata": {},
   "outputs": [
    {
     "data": {
      "text/plain": [
       "196500.0"
      ]
     },
     "execution_count": 26,
     "metadata": {},
     "output_type": "execute_result"
    }
   ],
   "source": [
    "np.mean(dt)"
   ]
  },
  {
   "cell_type": "code",
   "execution_count": null,
   "id": "520f69dd-d8df-4be5-b1c3-056c545bbc72",
   "metadata": {},
   "outputs": [],
   "source": []
  }
 ],
 "metadata": {
  "kernelspec": {
   "display_name": "Python 3 (ipykernel)",
   "language": "python",
   "name": "python3"
  },
  "language_info": {
   "codemirror_mode": {
    "name": "ipython",
    "version": 3
   },
   "file_extension": ".py",
   "mimetype": "text/x-python",
   "name": "python",
   "nbconvert_exporter": "python",
   "pygments_lexer": "ipython3",
   "version": "3.10.8"
  }
 },
 "nbformat": 4,
 "nbformat_minor": 5
}
