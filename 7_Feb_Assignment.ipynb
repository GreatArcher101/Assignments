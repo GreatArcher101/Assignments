{
 "cells": [
  {
   "cell_type": "markdown",
   "id": "c94c3c42-4023-4af0-8b07-2e4d0517813f",
   "metadata": {},
   "source": [
    "## Solution 1"
   ]
  },
  {
   "cell_type": "code",
   "execution_count": 147,
   "id": "dd50ee6a-7df6-4705-9aac-8f840b3a95a0",
   "metadata": {},
   "outputs": [
    {
     "name": "stdin",
     "output_type": "stream",
     "text": [
      "Enter Your Password= Arjun2Verm@@@\n"
     ]
    },
    {
     "name": "stdout",
     "output_type": "stream",
     "text": [
      "valid Password\n"
     ]
    }
   ],
   "source": [
    "\n",
    "def password(s):\n",
    "    if len(s)>=10:\n",
    "        \n",
    "        num=up=low=spch=0\n",
    "        \n",
    "        for i in s:\n",
    "            if i.isdigit():\n",
    "                num+=1\n",
    "            elif i.isalpha():\n",
    "                if i.isupper():\n",
    "                    up+=1\n",
    "                else:\n",
    "                    low+=1        \n",
    "            elif i.isalnum()==False:\n",
    "                spch+=1    \n",
    "       \n",
    "    \n",
    "    \n",
    "        if num>=1 and up>=2 and low>=2 and spch>=3:\n",
    "            print(\"valid Password\")\n",
    "        else:\n",
    "            print(\"Invalid Password\")\n",
    "                \n",
    "    else:\n",
    "        print(\"Invalid Password\")\n",
    "        \n",
    "        \n",
    "s=input(\"Enter Your Password=\")\n",
    "password(s)\n"
   ]
  },
  {
   "cell_type": "markdown",
   "id": "7a8bfa58-f72d-42e3-89a2-a37dac6a6a25",
   "metadata": {},
   "source": [
    "## Solution 2"
   ]
  },
  {
   "cell_type": "code",
   "execution_count": 168,
   "id": "6ee51596-ccb3-4a9b-a8b1-265e81969a89",
   "metadata": {},
   "outputs": [
    {
     "data": {
      "text/plain": [
       "[True]"
      ]
     },
     "execution_count": 168,
     "metadata": {},
     "output_type": "execute_result"
    }
   ],
   "source": [
    "a=\"king\"\n",
    "[True  if a.startswith('k') else False]"
   ]
  },
  {
   "cell_type": "code",
   "execution_count": 173,
   "id": "7ed7ad0c-b2c7-45e2-b8a1-2e4211ac620f",
   "metadata": {},
   "outputs": [
    {
     "data": {
      "text/plain": [
       "[True]"
      ]
     },
     "execution_count": 173,
     "metadata": {},
     "output_type": "execute_result"
    }
   ],
   "source": [
    "b='134'\n",
    "[True  if b.isnumeric() else False]"
   ]
  },
  {
   "cell_type": "code",
   "execution_count": 226,
   "id": "b4af9b43-824e-47b3-81b6-ba4ef3a0350e",
   "metadata": {},
   "outputs": [
    {
     "data": {
      "text/plain": [
       "((99, 80, 1000), ('mango', 'orange', 'grapes'))"
      ]
     },
     "execution_count": 226,
     "metadata": {},
     "output_type": "execute_result"
    }
   ],
   "source": [
    "tup=[(\"mango\",99),(\"orange\",80), (\"grapes\", 1000)]\n",
    "lst=[]\n",
    "for i in tup:\n",
    "    for j in i:\n",
    "        lst.append(j)\n",
    "tuple(filter(lambda x : type(x)==int,lst)),tuple(filter(lambda x : type(x)==str , lst))\n",
    "            "
   ]
  },
  {
   "cell_type": "code",
   "execution_count": 174,
   "id": "0b2bee4f-2bee-4975-b256-3332c114f3e4",
   "metadata": {},
   "outputs": [
    {
     "data": {
      "text/plain": [
       "[0, 1, 4, 9, 16, 25, 36, 49, 64, 81, 100]"
      ]
     },
     "execution_count": 174,
     "metadata": {},
     "output_type": "execute_result"
    }
   ],
   "source": [
    "[i**2 for i in range(11)]"
   ]
  },
  {
   "cell_type": "code",
   "execution_count": 175,
   "id": "2c0a284b-c377-48e5-b58d-2195ab607c55",
   "metadata": {},
   "outputs": [
    {
     "data": {
      "text/plain": [
       "[0.0,\n",
       " 1.0,\n",
       " 1.2599210498948732,\n",
       " 1.4422495703074083,\n",
       " 1.5874010519681994,\n",
       " 1.7099759466766968,\n",
       " 1.8171205928321397,\n",
       " 1.912931182772389,\n",
       " 2.0,\n",
       " 2.080083823051904,\n",
       " 2.154434690031884]"
      ]
     },
     "execution_count": 175,
     "metadata": {},
     "output_type": "execute_result"
    }
   ],
   "source": [
    "[i**(1/3) for i in range(11)]"
   ]
  },
  {
   "cell_type": "code",
   "execution_count": 187,
   "id": "4ddcf42f-229c-4e9f-9927-e6e0e468ff3a",
   "metadata": {},
   "outputs": [
    {
     "data": {
      "text/plain": [
       "True"
      ]
     },
     "execution_count": 187,
     "metadata": {},
     "output_type": "execute_result"
    }
   ],
   "source": [
    "a=(lambda x : x%2==0)\n",
    "a(80)"
   ]
  },
  {
   "cell_type": "code",
   "execution_count": 194,
   "id": "07f3a449-639e-49bb-aeb1-dd5c05735394",
   "metadata": {},
   "outputs": [
    {
     "data": {
      "text/plain": [
       "[2, 4, 6, 8, 10]"
      ]
     },
     "execution_count": 194,
     "metadata": {},
     "output_type": "execute_result"
    }
   ],
   "source": [
    "list1=[1,2,3,4,5,6,7,8,9,10]\n",
    "\n",
    "list(filter(lambda x : x%2==0, list1))"
   ]
  },
  {
   "cell_type": "code",
   "execution_count": 199,
   "id": "374f232e-5b08-4c99-9a7a-bd3e239d47dc",
   "metadata": {},
   "outputs": [
    {
     "data": {
      "text/plain": [
       "([1, 2, 3, 4, 5, 6, 0], [-1, -2, -3, -4, -5])"
      ]
     },
     "execution_count": 199,
     "metadata": {},
     "output_type": "execute_result"
    }
   ],
   "source": [
    "list2=[1,2,3,4,5,6,-1,-2,-3,-4,-5,0]\n",
    "\n",
    "list(filter(lambda x : x>=0, list2)),list(filter(lambda x : x<0, list2))\n"
   ]
  },
  {
   "cell_type": "code",
   "execution_count": null,
   "id": "a104ca21-88d6-4ac2-ada8-44871a9a7a43",
   "metadata": {},
   "outputs": [],
   "source": []
  }
 ],
 "metadata": {
  "kernelspec": {
   "display_name": "Python 3 (ipykernel)",
   "language": "python",
   "name": "python3"
  },
  "language_info": {
   "codemirror_mode": {
    "name": "ipython",
    "version": 3
   },
   "file_extension": ".py",
   "mimetype": "text/x-python",
   "name": "python",
   "nbconvert_exporter": "python",
   "pygments_lexer": "ipython3",
   "version": "3.10.8"
  }
 },
 "nbformat": 4,
 "nbformat_minor": 5
}
