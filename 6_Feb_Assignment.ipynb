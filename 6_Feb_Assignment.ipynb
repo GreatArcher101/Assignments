{
 "cells": [
  {
   "cell_type": "markdown",
   "id": "89d999f3-dae0-419b-a79c-c0e4915b2e00",
   "metadata": {},
   "source": [
    "## Solution 1"
   ]
  },
  {
   "cell_type": "code",
   "execution_count": 1,
   "id": "c5ca24c2-a9ce-4363-b2bc-a4b82212a04e",
   "metadata": {},
   "outputs": [],
   "source": [
    "list1 = [1,2,3,4, [44,55,66, True], False, (34,56,78,89,34), {1,2,3,3,2,1}, {1:34, \"key2\": [55, 67, 78, 89], 4: (45,\n",
    "22, 61, 34)}, [56, 'data science'], 'Machine Learning']"
   ]
  },
  {
   "cell_type": "code",
   "execution_count": 2,
   "id": "9bc0096e-2103-4143-9dc4-a2365ea75e42",
   "metadata": {},
   "outputs": [
    {
     "name": "stdout",
     "output_type": "stream",
     "text": [
      "4134711838987085478833841242112000\n"
     ]
    }
   ],
   "source": [
    "lst=[]\n",
    "def flat(a):\n",
    "    for i in a:\n",
    "        if type(i)== tuple or type(i)== list or type(i)== set:\n",
    "            for m in i:\n",
    "                lst.append(m)\n",
    "        elif type(i)==dict:\n",
    "            for j in i.items():\n",
    "                if type(j)==tuple:\n",
    "                    for k in j:\n",
    "                        if type(k)==tuple or type(k)==list:\n",
    "                            for l in k:\n",
    "                                lst.append(l)\n",
    "                        else:\n",
    "                            lst.append(k)\n",
    "                    \n",
    "        else:\n",
    "            lst.append(i)\n",
    "    return lst\n",
    "p=flat(list1)\n",
    "a=1\n",
    "for q in p:\n",
    "    if type(q)== int:\n",
    "        a=a*q\n",
    "print(a)\n",
    "\n",
    "    "
   ]
  },
  {
   "cell_type": "markdown",
   "id": "c07c4570-bbf8-4213-ad81-23099ff1185f",
   "metadata": {},
   "source": [
    "## Solution 2"
   ]
  },
  {
   "cell_type": "code",
   "execution_count": null,
   "id": "175f8afb-c67b-4a3d-8f44-4cd049a9c7c1",
   "metadata": {
    "tags": []
   },
   "outputs": [],
   "source": [
    "\n",
    "def encryption(n):\n",
    "    l={\".\":\".\",\" \":\"$\",\"a\":\"z\",\"b\":\"y\",\"c\":\"x\",\"d\":\"w\",\"e\":\"v\",\"f\":\"u\",\"g\":\"t\",\"h\":\"s\",\"i\":\"r\",\"j\":\"q\",\"k\":\"p\",\"l\":\"o\",\"m\":\"n\",\"n\":\"m\",\"o\":\"l\",\"p\":\"k\",\"q\":\"j\",\"r\":\"i\",\"s\":\"h\",\"t\":\"g\",\"u\":\"f\",\"v\":\"e\",\"w\":\"d\",\"x\":\"c\",\"y\":\"b\",\"z\":\"a\"}\n",
    "    new=[]\n",
    "    for i in n:\n",
    "        for k,v in l.items():\n",
    "            if i == k:             \n",
    "                new.append(v)    \n",
    "    result=''.join(new)\n",
    "    print(result)\n",
    "  \n",
    "n=input(\"enter your string: \")\n",
    "encryption(list(n.lower()))"
   ]
  },
  {
   "cell_type": "code",
   "execution_count": null,
   "id": "6cb8b0aa-2cf1-45b6-abed-e45011723c8c",
   "metadata": {},
   "outputs": [],
   "source": []
  },
  {
   "cell_type": "code",
   "execution_count": null,
   "id": "78ee4b58-b67d-4ef5-8f38-5bdef75056d0",
   "metadata": {},
   "outputs": [],
   "source": []
  },
  {
   "cell_type": "code",
   "execution_count": null,
   "id": "ee90b2e2-fe57-4a45-8523-12cdf633fbaa",
   "metadata": {},
   "outputs": [],
   "source": []
  },
  {
   "cell_type": "code",
   "execution_count": null,
   "id": "f77515a7-f137-4b2d-84cc-94653a637347",
   "metadata": {},
   "outputs": [],
   "source": [
    "\n"
   ]
  },
  {
   "cell_type": "code",
   "execution_count": null,
   "id": "65e62201-714a-4678-8b94-8fe6ee880c26",
   "metadata": {},
   "outputs": [],
   "source": []
  },
  {
   "cell_type": "code",
   "execution_count": null,
   "id": "9b681e03-b6a6-4166-b482-f522c0e8c155",
   "metadata": {},
   "outputs": [],
   "source": []
  },
  {
   "cell_type": "code",
   "execution_count": null,
   "id": "cee0d775-c3ba-4b67-be35-082c72f4d448",
   "metadata": {},
   "outputs": [],
   "source": []
  },
  {
   "cell_type": "code",
   "execution_count": null,
   "id": "f98983c1-ca63-4227-a3a4-88c4175be76f",
   "metadata": {},
   "outputs": [],
   "source": []
  },
  {
   "cell_type": "code",
   "execution_count": null,
   "id": "a659ac36-0e39-40c3-8f23-238e4cd78b96",
   "metadata": {},
   "outputs": [],
   "source": []
  },
  {
   "cell_type": "code",
   "execution_count": null,
   "id": "b1610cd1-1470-4742-a50a-1226a868ae88",
   "metadata": {},
   "outputs": [],
   "source": []
  },
  {
   "cell_type": "code",
   "execution_count": null,
   "id": "d1e633a6-0c99-4a1e-8767-5b182da2cc52",
   "metadata": {},
   "outputs": [],
   "source": []
  },
  {
   "cell_type": "code",
   "execution_count": null,
   "id": "69cfb5bd-c3e5-4f43-9445-8523e9c3336e",
   "metadata": {},
   "outputs": [],
   "source": []
  },
  {
   "cell_type": "code",
   "execution_count": null,
   "id": "73fe8f8b-1b22-40c2-85e5-e5e16bdcb19c",
   "metadata": {},
   "outputs": [],
   "source": []
  }
 ],
 "metadata": {
  "kernelspec": {
   "display_name": "Python 3 (ipykernel)",
   "language": "python",
   "name": "python3"
  },
  "language_info": {
   "codemirror_mode": {
    "name": "ipython",
    "version": 3
   },
   "file_extension": ".py",
   "mimetype": "text/x-python",
   "name": "python",
   "nbconvert_exporter": "python",
   "pygments_lexer": "ipython3",
   "version": "3.10.8"
  }
 },
 "nbformat": 4,
 "nbformat_minor": 5
}
