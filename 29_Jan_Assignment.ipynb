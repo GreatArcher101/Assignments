{
 "cells": [
  {
   "cell_type": "markdown",
   "id": "43dd1ce1-aa5a-4b60-856f-0d00d91078b0",
   "metadata": {},
   "source": [
    "'''\n",
    "Answer 1. Guido van Rossum\n",
    "Answer 2. Python is an interpreted programming language, which supports objectoriented, structured, and functional programming.\n",
    "Answer 3. Yes\n",
    "Answer 4. ‘.py’\n",
    "Answer 5. Python code is both compiled and interpreted.\n",
    "Answer 6. Indentation\n",
    "Answer 7. #\n",
    "Answer 8. sys.version\n",
    "Answer 9. Lambda\n",
    "Answer 10. Preferred Installer Program\n",
    "Answer 11. print() , open()\n",
    "Answer 12. 79\n",
    "Answer 13. Run on any operating system, Dynamic typing etc.\n",
    "Answer 14. Memory in Python is managed by Python private heap space.\n",
    "Answer 15. Install python from this link https://www.python.org/downloads/\n",
    "=>         After this, install it on your PC. Look for the location where PYTHON has been\n",
    "           installed on your PC using the following command on your command prompt:\n",
    "           cmd python.\n",
    "=>         Then go to advanced system settings and add new variable and name it as\n",
    "           PYTHON_NAME and paste the copied path.\n",
    "=>         Then look for the path variable, select its value and select edit\n",
    "=>         Add a semicolon towards the end of the value if it's not present and then type\n",
    "%PYTHON_HOME%\n",
    "Answer 16. Yes Required\n",
    "'''"
   ]
  }
 ],
 "metadata": {
  "kernelspec": {
   "display_name": "Python 3 (ipykernel)",
   "language": "python",
   "name": "python3"
  },
  "language_info": {
   "codemirror_mode": {
    "name": "ipython",
    "version": 3
   },
   "file_extension": ".py",
   "mimetype": "text/x-python",
   "name": "python",
   "nbconvert_exporter": "python",
   "pygments_lexer": "ipython3",
   "version": "3.10.8"
  }
 },
 "nbformat": 4,
 "nbformat_minor": 5
}
