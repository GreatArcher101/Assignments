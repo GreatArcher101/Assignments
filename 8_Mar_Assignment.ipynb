{
 "cells": [
  {
   "cell_type": "markdown",
   "id": "449d2434-dc1f-4763-99e6-075d2c045baa",
   "metadata": {},
   "source": [
    "## What is the Probability density function?"
   ]
  },
  {
   "cell_type": "markdown",
   "id": "84e3f7e5-a0e2-4c82-8ae1-48349b44703e",
   "metadata": {},
   "source": [
    "* Probability density function (PDF) is a function that describes the relative likelihood of a continuous random variable taking on a certain value. \n",
    "* The area under the PDF curve between two points represents the probability of the random variable taking on a value within that range. The total area under the curve is always equal to 1.\n",
    "* The PDF is defined as the derivative of the cumulative distribution function (CDF) of a continuous random variable\n",
    "\n",
    "Formula of PDF\n",
    "\n",
    "f(x) = dF(X)/dx\n",
    "\n",
    "where, f(x) = probablity density at a specific point x and F(x) = cummulative distribution function of x"
   ]
  },
  {
   "cell_type": "markdown",
   "id": "213ef21b-9d02-448e-91ec-44805bffad7f",
   "metadata": {},
   "source": [
    "## What are the types of Probability distribution?"
   ]
  },
  {
   "cell_type": "markdown",
   "id": "0a562d11-03ea-44d9-9674-1dbd877a79a8",
   "metadata": {},
   "source": [
    "probability distributions can be divided into two broad categories, Discrete probability distributions and Continuous probability distributions.\n",
    "\n",
    "__Discrete probability distributions:__ These distributions represent random variables that can only take on a countable number of values.\n",
    "* Probability distribution functions for discrete random variables:\n",
    "1. Bernoulli distribution\n",
    "2. Binomial distribution\n",
    "3. Poisson distribution\n",
    "4. Geometric distribution\n",
    "5. Negative binomial distribution\n",
    "6. Hypergeometric distribution\n",
    "7. Uniform distribution\n",
    "\n",
    "__Continuous probability distributions:__ These distributions represent random variables that can take on any value within a continuous range.\n",
    "* Probability distribution functions for continuous random variables:\n",
    "1. Normal distribution\n",
    "2. Exponential distribution\n",
    "3. Gamma distribution\n",
    "4. Beta distribution\n",
    "5. Weibull distribution\n",
    "6. Log-normal distribution\n",
    "7. Student's t-distribution\n",
    "8. Chi-squared distribution"
   ]
  },
  {
   "cell_type": "markdown",
   "id": "123cb403-8663-48b1-853a-92e1bc26f605",
   "metadata": {},
   "source": [
    "## Write a Python function to calculate the probability density function of a normal distribution with given mean and standard deviation at a given point."
   ]
  },
  {
   "cell_type": "code",
   "execution_count": 1,
   "id": "e304efd0-5952-4dc4-a4d4-36399a86c9e7",
   "metadata": {},
   "outputs": [],
   "source": [
    "# importing numpy\n",
    "import numpy as np\n",
    "\n",
    "# making a function for pdf of normal distribution\n",
    "def pdf_norm( mean , std , x):\n",
    "    \n",
    "    # as per formula of pdf of normal distribution\n",
    "    coefficient = 1/(std*(2*np.pi)**0.5)\n",
    "    exponent = np.exp(-1/2*((x-mean)/std)**2)\n",
    "    \n",
    "    pdf = coefficient * exponent\n",
    "    return pdf"
   ]
  },
  {
   "cell_type": "code",
   "execution_count": 2,
   "id": "fb6f91f4-6550-42da-b1a5-b3490df09346",
   "metadata": {},
   "outputs": [
    {
     "data": {
      "text/plain": [
       "0.10648266850745075"
      ]
     },
     "execution_count": 2,
     "metadata": {},
     "output_type": "execute_result"
    }
   ],
   "source": [
    "pdf_norm(2,3,4)"
   ]
  },
  {
   "cell_type": "markdown",
   "id": "e3e62194-3b38-4e67-9054-cc7790aba175",
   "metadata": {},
   "source": [
    "## What are the properties of Binomial distribution? Give two examples of events where binomial distribution can be applied."
   ]
  },
  {
   "cell_type": "markdown",
   "id": "4fc9c5ca-b9e3-4aa1-b9f0-a843ae3d5a6b",
   "metadata": {},
   "source": [
    "The binomial distribution is a discrete probability distribution that describes the number of successes in a fixed number of independent trials, where each trial has only two possible outcomes (often referred to as \"success\" and \"failure\") and the probability of success is constant for each trial. Some properties of the binomial distribution include:\n",
    "\n",
    "* The mean of the distribution is given by the formula np, where n is the number of trials and p is the probability of success in each trial.\n",
    "* The variance of the distribution is given by the formula np(1-p).\n",
    "* The shape of the distribution is bell-shaped for large values of n, and becomes increasingly symmetric as n increases"
   ]
  },
  {
   "cell_type": "markdown",
   "id": "b2ba41e7-02e6-4110-924c-172c934491a6",
   "metadata": {},
   "source": [
    "Examples of events where binomial distribution can be applied include:\n",
    "\n",
    "__Tossing a coin:__ When we toss a coin, the outcome can be either heads or tails. Suppose we toss a fair coin 10 times, and we want to know the probability of getting exactly 5 heads. This is an example of a binomial distribution, where each trial has two possible outcomes (heads or tails), and the probability of heads (p) is 0.5 for each trial.\n",
    "\n",
    "__Drug trials:__ In clinical trials of new drugs, the researchers often want to know the probability of a certain outcome (e.g. a certain percentage of patients showing improvement) when the drug is administered. This can be modeled using a binomial distribution, where each patient is considered a trial and the outcome (improvement or not) is the \"success\" or \"failure\" in each trial."
   ]
  },
  {
   "cell_type": "markdown",
   "id": "1ffd5cd4-0b07-4c1c-9774-9ed45bb21cb8",
   "metadata": {},
   "source": [
    "## Generate a random sample of size 1000 from a binomial distribution with probability of success 0.4 and plot a histogram of the results using matplotlib."
   ]
  },
  {
   "cell_type": "code",
   "execution_count": 3,
   "id": "d433e2ef-d2bc-447e-9e5d-c9e4504d45a5",
   "metadata": {},
   "outputs": [
    {
     "data": {
      "image/png": "[encoded data removed]",
      "text/plain": [
       "<Figure size 640x480 with 1 Axes>"
      ]
     },
     "metadata": {},
     "output_type": "display_data"
    }
   ],
   "source": [
    "import numpy as np\n",
    "import matplotlib.pyplot as plt\n",
    "# sample size\n",
    "s = 1000 \n",
    "\n",
    "# number of trails\n",
    "n= s\n",
    "\n",
    "# probablity of success\n",
    "p=0.4\n",
    "\n",
    "# generating random sample data\n",
    "data = np.random.binomial(n, p, size=s)\n",
    "\n",
    "# plotting data\n",
    "plt.hist(data, bins=20)\n",
    "plt.title('Binomial Distribution')\n",
    "plt.show()\n"
   ]
  },
  {
   "cell_type": "markdown",
   "id": "295ff901-e082-46d2-a7f1-6bcd50b35b6a",
   "metadata": {},
   "source": [
    "## Write a Python function to calculate the cumulative distribution function of a Poisson distribution with given mean at a given point."
   ]
  },
  {
   "cell_type": "code",
   "execution_count": 4,
   "id": "0ac90aec-e542-41a1-a91a-b7fbd5e19d5b",
   "metadata": {},
   "outputs": [],
   "source": [
    "# importing poisson lib \n",
    "from scipy.stats import poisson\n",
    "\n",
    "# making a fun, for cdf of a poisson dist.\n",
    "def cdf_poisson(x, mean):\n",
    "    cdf = poisson.cdf(x, mean)\n",
    "    return cdf"
   ]
  },
  {
   "cell_type": "code",
   "execution_count": 5,
   "id": "ba825aed-4a86-499f-82a2-fa00e7031c64",
   "metadata": {},
   "outputs": [
    {
     "data": {
      "text/plain": [
       "0.9982483774437092"
      ]
     },
     "execution_count": 5,
     "metadata": {},
     "output_type": "execute_result"
    }
   ],
   "source": [
    "cdf_poisson(3, 0.5)"
   ]
  },
  {
   "cell_type": "markdown",
   "id": "f4f28365-c5d2-415c-b998-63933774d721",
   "metadata": {},
   "source": [
    "## How Binomial distribution different from Poisson distribution?"
   ]
  },
  {
   "cell_type": "markdown",
   "id": "e56f0253-b390-4760-968c-b154f6ed5217",
   "metadata": {},
   "source": [
    "The Binomial distribution and Poisson distribution are different in several factors:\n",
    "\n",
    "* Probability of success: In the Binomial distribution, the probability of success remains constant for all trials, while in the Poisson distribution, the probability of occurrence is constant over a given interval.\n",
    "\n",
    "* Number of trials: The Binomial distribution is used when there is a fixed number of independent trials, while the Poisson distribution is used to model the number of events in a fixed interval of time or space.\n",
    "\n",
    "* Range of values: The Binomial distribution has a finite range of values, while the Poisson distribution has an infinite range of values.\n",
    "\n",
    "* Assumptions: The Binomial distribution assumes that each trial is independent and that the probability of success remains constant for all trials. The Poisson distribution assumes that the events occur randomly and independently in time or space.\n",
    "\n",
    "* Mean and variance: The mean and variance of the Binomial distribution are both dependent on the number of trials and the probability of success, while in the Poisson distribution, the mean and variance are equal and dependent only on the rate of occurrence.\n",
    "\n",
    "* Applications: The Binomial distribution is commonly used in experiments involving binary outcomes, such as coin flips or medical trials. The Poisson distribution is used in modeling the occurrence of rare events, such as earthquakes, accidents, or defects in a product."
   ]
  },
  {
   "cell_type": "markdown",
   "id": "a5aa3683-1534-4017-996b-b57c66ceb0cd",
   "metadata": {},
   "source": [
    "## Generate a random sample of size 1000 from a Poisson distribution with mean 5 and calculate the sample mean and variance."
   ]
  },
  {
   "cell_type": "code",
   "execution_count": 11,
   "id": "6fdb1554-4b4b-4b32-b18c-70c969926bfc",
   "metadata": {},
   "outputs": [
    {
     "name": "stdout",
     "output_type": "stream",
     "text": [
      "Sample Mean is 4.982\n",
      "Variance is 4.823676000000001\n"
     ]
    }
   ],
   "source": [
    "#importing numpy \n",
    "import numpy as np\n",
    "\n",
    "mean = 5\n",
    "size = 1000\n",
    "#generating poisson distribution data \n",
    "poisson_distribution = np.random.poisson(mean, size=size)\n",
    "\n",
    "mean_of_dis = np.mean(poisson_distribution)\n",
    "var_of_dis = np.var(poisson_distribution)\n",
    "\n",
    "print(f'Sample Mean is {mean_of_dis}\\nVariance is {var_of_dis}')"
   ]
  },
  {
   "cell_type": "markdown",
   "id": "0606bd18-dcac-4793-b529-a6544bff929c",
   "metadata": {},
   "source": [
    "## How mean and variance are related in Binomial distribution and Poisson distribution?"
   ]
  },
  {
   "cell_type": "markdown",
   "id": "0cf2a3be-bbcd-4b90-8824-3669b6dcce21",
   "metadata": {},
   "source": [
    "Case 1: __Binomial Distribution__\n",
    "* mean = n * p\n",
    "* variance = n * p * (1 - p)\n",
    "\n",
    "where n is the number of trials, and p is the probability of success on each trial.\n",
    "\n",
    "The mean represents the expected number of successes in n trials, while the variance measures the spread of the distribution around the mean. The formula shows that the variance is directly proportional to the product of n, p, and (1-p). As p approaches 0 or 1, the variance decreases, indicating that the distribution becomes more concentrated around the mean. Conversely, as p approaches 0.5, the variance increases, indicating that the distribution becomes more spread out.\n",
    "\n",
    "Case 2: __Poisson Distribution__\n",
    "\n",
    "In Poisson distribution, the mean and variance are equal and are both equal to the parameter λ, which represents the average rate of occurrence of the event in a fixed interval of time or space.\n",
    "\n",
    "The formula for the mean and variance of a Poisson distribution is:\n",
    "* mean = λ\n",
    "* varience = λ\n",
    "\n",
    "This means that the mean and variance are directly proportional to the parameter λ. As λ increases, both the mean and variance increase as well. When λ is small, the Poisson distribution is skewed to the right, while when λ is large, the distribution becomes more symmetric and bell-shaped."
   ]
  },
  {
   "cell_type": "markdown",
   "id": "fafc23b1-d834-4293-bfe6-eeb42c6adb9e",
   "metadata": {},
   "source": [
    "## In normal distribution with respect to mean position, where does the least frequent data appear?"
   ]
  },
  {
   "cell_type": "markdown",
   "id": "ed132318-0e0a-4012-885a-c57027081841",
   "metadata": {},
   "source": [
    "In a normal distribution, the least frequent data appears at the tails of the distribution, which are located at the extreme ends of the distribution away from the mean.\n",
    "\n",
    "In a standard normal distribution (mean=0, standard deviation=1), the least frequent data would appear at the tails that are 2 or more standard deviations away from the mean. Approximately 2.5% of the data lies more than 2 standard deviations below the mean, and another 2.5% lies more than 2 standard deviations above the mean."
   ]
  },
  {
   "cell_type": "code",
   "execution_count": null,
   "id": "791f32b6-a620-4a6f-a4b1-a1e1cbe23a05",
   "metadata": {},
   "outputs": [],
   "source": []
  }
 ],
 "metadata": {
  "kernelspec": {
   "display_name": "Python 3 (ipykernel)",
   "language": "python",
   "name": "python3"
  },
  "language_info": {
   "codemirror_mode": {
    "name": "ipython",
    "version": 3
   },
   "file_extension": ".py",
   "mimetype": "text/x-python",
   "name": "python",
   "nbconvert_exporter": "python",
   "pygments_lexer": "ipython3",
   "version": "3.10.8"
  }
 },
 "nbformat": 4,
 "nbformat_minor": 5
}
