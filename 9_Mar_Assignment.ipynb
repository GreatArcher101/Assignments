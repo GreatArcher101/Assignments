{
 "cells": [
  {
   "cell_type": "markdown",
   "id": "3b977d2e-c320-4775-8283-f674ed1d7924",
   "metadata": {},
   "source": [
    "## What are the Probability Mass Function (PMF) and Probability Density Function (PDF)? Explain with an example."
   ]
  },
  {
   "cell_type": "markdown",
   "id": "71438252-8136-47a7-aab9-2529f0bf1173",
   "metadata": {},
   "source": [
    "__Probability Mass Function__ PMF is used for discrete random variables, meaning variables that can only take on specific, finite values. The PMF gives the probability that a discrete random variable takes on a certain value. The sum of all the probabilities in the PMF is 1.\n",
    "* For example, consider the case of rolling a fair six-sided die. The PMF for this scenario can be written as:\n",
    "\n",
    "> value on die = {1,2,3,4,5,6}\n",
    "\n",
    "> pmf = {1/6 , 1/6 , 1/6, 1/6, 1/6, 1/6}\n",
    "\n",
    "__Probability Mass Function__ PDF, on the other hand, is used for continuous random variables, meaning variables that can take on any value within a certain range or interval. The PDF gives the probability density function of a continuous random variable at any given point within its range. \n",
    "* For example of a continuous random variable is height, which can take on any value within a certain range. \n",
    "\n",
    "> f(x) = (1/σ√(2π)) * e^(-((x-μ)^2)/(2σ^2))\n",
    "\n",
    "> where μ is mean and σ is std\n"
   ]
  },
  {
   "cell_type": "markdown",
   "id": "ba53fadb-74df-4f57-b44c-b0c31aa9dee6",
   "metadata": {},
   "source": [
    "## What is Cumulative Density Function (CDF)? Explain with an example. Why CDF is used?"
   ]
  },
  {
   "cell_type": "markdown",
   "id": "22a6ecee-9bba-473a-9647-42aac3ef9683",
   "metadata": {},
   "source": [
    "The Cumulative Density Function (CDF) is a statistical function that describes the probability of a random variable taking a value less than or equal to a given value. \n",
    "\n",
    "we have a random variable X that represents the score of a student in a math test(from 0 to 10), the pdf of X is:\n",
    "\n",
    "\n",
    "> X = {0, 1, 2, 3, 4, 5, 6, 7, 8, 9, 10}\n",
    "\n",
    "> f(X) = { 0.02, 0.05, 0.08, 0.1, 0.12, 0.15, 0.16, 0.1, 0.07, 0.03, 0.02}\n",
    "\n",
    "* To find the CDF of X, we need to calculate the probability that X is less than or equal to a certain value of x\n",
    "* eg. to find F(5), we need to add up the probabilities of getting a score of 0, 1, 2, 3, 4, or 5:\n",
    "  \n",
    "  F(5) = P(X ≤ 5) = f(0) + f(1) + f(2) + f(3) + f(4) + f(5)\n",
    "  \n",
    "  = 0.02 + 0.05 + 0.08 + 0.1 + 0.12 + 0.15\n",
    "  \n",
    "  = 0.52\n",
    "\n",
    "So, if we want to plot CDF, the resulting CDF of X would look like this:\n",
    "\n",
    "> X = {0, 1, 2, 3, 4, 5, 6, 7, 8, 9, 10}\n",
    "\n",
    "> F(X) = {0.02, 0.07, 0.15, 0.25, 0.37, 0.52, 0.68, 0.78, 0.85, 0.88, 0.9 }\n",
    "\n",
    "__Utilization:__ The value of F(x) at any point x represents the probability that the student will get a score less than or equal to x. For example, F(5) = 0.52 means that there is a 52% chance that the student will get a score of 5 or less in the test. Other than calculating percentage we can also use CDF in percentiles, estimaton and hypothesis testing.\n"
   ]
  },
  {
   "cell_type": "markdown",
   "id": "b5e84ff1-df8d-4766-afcc-d706a32942ab",
   "metadata": {},
   "source": [
    "## What are some examples of situations where the normal distribution might be used as a model? Explain how the parameters of the normal distribution relate to the shape of the distribution."
   ]
  },
  {
   "cell_type": "markdown",
   "id": "62c64a2a-522a-40f5-a185-8378085e6c79",
   "metadata": {},
   "source": [
    "The normal distribution is a commonly used probability distribution in statistics due to its many useful properties. Some examples of situations where the normal distribution might be used as a model are:\n",
    "\n",
    "* Heights and weights\n",
    "* IQ scores\n",
    "* Error terms in regression analysis\n",
    "* Stock prices\n",
    "* Quality control\n",
    "* Natural phenomena\n",
    "\n",
    "The normal distribution is a continuous probability distribution that is characterized by two parameters, mean (μ) and standard deviation (σ). \n",
    "\n",
    "* The mean of the normal distribution determines the location of the center of the distribution, and is also the value where the distribution is symmetric.\n",
    "* If the mean is shifted to the right, the entire distribution will shift to the right. If the mean is shifted to the left, the entire distribution will shift to the left.\n",
    "* The standard deviation of the normal distribution determines the width of the distribution. \n",
    "* If the standard deviation is large, the distribution will be more spread out, and if it is small, the distribution will be more compact.\n",
    "* A smaller standard deviation results in a taller, more narrow peak, while a larger standard deviation results in a shorter, flatter peak.\n",
    "* Together, the mean and standard deviation determine the shape of the normal distribution, and their values can be used to make predictions about the likelihood of events occurring within the distribution. \n",
    "\n",
    "\n",
    "\n"
   ]
  },
  {
   "cell_type": "markdown",
   "id": "a68e4449-03a5-45e1-8a4b-17a88929003a",
   "metadata": {},
   "source": [
    "## Explain the importance of Normal Distribution. Give a few real-life examples of Normal Distribution."
   ]
  },
  {
   "cell_type": "markdown",
   "id": "0e613a90-7173-4e68-aad6-f803678f2650",
   "metadata": {},
   "source": [
    "The normal distribution, is one of the most important probability distributions in statistics due to its many useful properties. \n",
    "\n",
    "* It is a well-understood distribution\n",
    "* It is a convenient model for many natural phenomena (height, weight)\n",
    "* It has a simple mathematical form\n",
    "* It is symmetric, unimodal, and bell-shaped\n",
    "\n",
    "The normal distribution is a commonly used probability distribution in statistics due to its many useful properties. Some examples of situations where the normal distribution might be used as a model are:\n",
    "\n",
    "* Heights and weights\n",
    "* IQ scores\n",
    "* Stock prices\n",
    "* Quality control\n",
    "* Blood Pressure\n",
    "* Test Scores"
   ]
  },
  {
   "cell_type": "markdown",
   "id": "620af0ab-8463-485c-bb74-f0fe52fcd8e7",
   "metadata": {},
   "source": [
    "## What is Bernaulli Distribution? Give an Example. What is the difference between Bernoulli Distribution and Binomial Distribution?"
   ]
  },
  {
   "cell_type": "markdown",
   "id": "b3a1c281-f8ed-46b8-8a50-6c4860412300",
   "metadata": {},
   "source": [
    "The Bernoulli distribution is a probability distribution that models a single trial of a binary experiment, where the outcome can either be success or failure.\n",
    "\n",
    "The Bernoulli distribution is characterized by a single parameter p, which represents the probability of success in a single trial. The probability of failure in a single trial is therefore 1 - p. The probability mass function of the Bernoulli distribution is given by:\n",
    "\n",
    "P(X = 1) = p\n",
    "\n",
    "P(X = 0) = 1 - p\n",
    "\n",
    "__Example__ \n",
    "\n",
    "A situation that can be modeled using the Bernoulli distribution is whether a customer buys a product after seeing an advertisement.\n",
    "If we define success as the customer buying the product and failure as the customer not buying the product, then the probability of success depends on the effectiveness of the advertisement, and can be modeled using the Bernoulli distribution with a probability parameter p.\n",
    "\n",
    "\n",
    "Difference between Bernoulli Distribution and Binomial Distribution are:\n",
    "\n",
    "* __Number of Trials:__ The Bernoulli distribution models a single trial, while the binomial distribution models a series of independent, identical trials.\n",
    "\n",
    "* __Parameterization:__ The Bernoulli distribution has a single parameter p, which represents the probability of success in a single trial. The binomial distribution has two parameters: n, which represents the number of trials, and p, which represents the probability of success in each trial.\n",
    "\n",
    "* __Probability Mass Function:__ PMF of the Bernoulli distribution is given by P(X=1) = p and P(X=0) = 1-p. The PMF of the binomial distribution is given by P(X=k) = (n choose k) * p^k * (1-p)^(n-k), where X is the random variable representing the number of successes in n independent, identical trials.\n",
    "\n",
    "* __Mean and Variance:__ The mean of the Bernoulli distribution is p, and the variance is p(1-p). The mean of the binomial distribution is np, and the variance is np(1-p).\n",
    "\n",
    "The Bernoulli distribution is a special case of the binomial distribution where n=1. It models a single trial of a binary experiment, while the binomial distribution models a series of independent, identical trials with a fixed probability of success."
   ]
  },
  {
   "cell_type": "markdown",
   "id": "0999eecf-3447-4b53-9068-9b8a64bbe21b",
   "metadata": {},
   "source": [
    "## Consider a dataset with a mean of 50 and a standard deviation of 10. If we assume that the dataset is normally distributed, what is the probability that a randomly selected observation will be greater than 60? Use the appropriate formula and show your calculations."
   ]
  },
  {
   "cell_type": "raw",
   "id": "7b03d857-67ce-4b94-a79e-98e8309e5f55",
   "metadata": {},
   "source": [
    "Given: \n",
    "mean (μ) = 50\n",
    "std (σ) = 10\n",
    "x = 60\n",
    "\n",
    "z- score = (x- μ)/σ\n",
    "     = (60 - 50)/10\n",
    "     =  1\n",
    "\n",
    "from z table the value of +1 is 0.84134\n",
    "value_left = 0.84134\n",
    "which gives us the area from the left to the x, but we need the area from x to the right.\n",
    "value_right = 1 - value_left\n",
    "value_right = 0.15866\n",
    "\n",
    "\n",
    "Probablity is area under the curve, which is value_right. If we convert this into percentage. \n",
    "So, 15.87% probablity that the selected varibale will be greater than 60."
   ]
  },
  {
   "cell_type": "markdown",
   "id": "dcc0cc57-fb47-4677-8fc8-b22bbd2012f0",
   "metadata": {},
   "source": [
    "## Explain uniform Distribution with an example."
   ]
  },
  {
   "cell_type": "markdown",
   "id": "1cd2a04f-2a95-4359-948d-90b2d60be6b0",
   "metadata": {},
   "source": [
    "The uniform distribution is a probability distribution that models the probability of a continuous random variable taking on any value within a specific range, where each value within that range is equally likely to occur. This means that the probability density function (PDF) of the uniform distribution is constant within the range and zero outside the range.\n",
    "\n",
    "The PDF of the uniform distribution is given by:\n",
    "\n",
    "f(x) = 1 / (b - a) if a <= x <= b\n",
    "\n",
    "f(x) = 0 otherwise\n",
    "\n",
    "where a and b are the lower and upper bounds of the range.\n",
    "\n",
    "__Example:__ The time it takes for a traffic light to turn green. If we assume that the time it takes for the traffic light to turn green is equally likely to be any value between 10 and 20 seconds, we can model this situation using the uniform distribution with a = 10 and b = 20."
   ]
  },
  {
   "cell_type": "markdown",
   "id": "111aeab4-bfe4-4595-9d6b-5a37d5067013",
   "metadata": {},
   "source": [
    "## What is the z score? State the importance of the z score."
   ]
  },
  {
   "cell_type": "markdown",
   "id": "8c39a1cb-ab09-440b-afed-52c68f1b9e3c",
   "metadata": {},
   "source": [
    "A z-score, also known as a standard score, is a measure of how many standard deviations a data point is from the mean of its distribution.\n",
    "\n",
    "The formula for calculating the z-score for a data point x in a distribution with mean μ and standard deviation σ is:\n",
    "\n",
    "z = (x - μ) / σ\n",
    "\n",
    "The importance of the z-score lies in its ability to standardize data and make it easier to interpret and compare. By converting data to z-scores, we can easily identify extreme values, calculate probabilities, and compare different datasets. Additionally, the z-score is used in hypothesis testing and statistical inference, as it allows us to calculate the probability of obtaining a particular value or set of values given the distribution of the data."
   ]
  },
  {
   "cell_type": "markdown",
   "id": "2c33c66f-b2e8-43e4-abab-c7de83d65b54",
   "metadata": {},
   "source": [
    "## What is Central Limit Theorem? State the significance of the Central Limit Theorem."
   ]
  },
  {
   "cell_type": "markdown",
   "id": "d9728813-e2c5-4824-b43b-f7220645bc66",
   "metadata": {},
   "source": [
    "Central limit theorem says that the sampling distributed of the mean will always be normally distributed, regardless of the populaton has a normal, poisson, binomial or any distribution.\n",
    "\n",
    "As the sample size increases, the distribution of the sample mean approaches a normal distribution with\n",
    "\n",
    "* mean  = μ and\n",
    "* standard deviation =  σ/sqrt(n), \n",
    "\n",
    "where μ is the population mean, σ is the population standard deviation, and n is the sample size.\n",
    "\n",
    "The significance of the Central Limit Theorem is that it provides a powerful tool for statistical inference and hypothesis testing. It allows us to use the normal distribution to make inferences about a population, even when the population distribution is not known. This is because the CLT implies that the sample mean will be normally distributed even if the underlying population distribution is not normal, provided that the sample size is sufficiently large. The CLT is used extensively in hypothesis testing, confidence interval estimation, and parameter estimation.\n"
   ]
  },
  {
   "cell_type": "markdown",
   "id": "acc9136a-e213-48a6-8a06-7e817550c420",
   "metadata": {},
   "source": [
    "## State the assumptions of the Central Limit Theorem."
   ]
  },
  {
   "cell_type": "markdown",
   "id": "341453b9-0a89-4ddf-9859-0d2c1c9bd20b",
   "metadata": {},
   "source": [
    "The Central Limit Theorem (CLT) is based on some important assumptions that must be satisfied for the theorem to hold. These assumptions are:\n",
    "\n",
    "Independence: The sample observations must be independent of each other.\n",
    "\n",
    "Sample size: The sample size must be sufficiently large. As a general rule, a sample size of 30 or more is considered large enough for the CLT to hold.\n",
    "\n",
    "Population distribution: The population from which the sample is drawn may have any distribution, but it should have a finite mean and a finite variance.\n",
    "\n",
    "Random sampling: The sample should be drawn at random from the population, so that every member of the population has an equal chance of being selected."
   ]
  }
 ],
 "metadata": {
  "kernelspec": {
   "display_name": "Python 3 (ipykernel)",
   "language": "python",
   "name": "python3"
  },
  "language_info": {
   "codemirror_mode": {
    "name": "ipython",
    "version": 3
   },
   "file_extension": ".py",
   "mimetype": "text/x-python",
   "name": "python",
   "nbconvert_exporter": "python",
   "pygments_lexer": "ipython3",
   "version": "3.10.8"
  }
 },
 "nbformat": 4,
 "nbformat_minor": 5
}
