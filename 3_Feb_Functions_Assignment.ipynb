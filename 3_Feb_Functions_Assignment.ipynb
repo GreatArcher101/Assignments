{
 "cells": [
  {
   "cell_type": "markdown",
   "id": "8ee7a43c-23d4-4a26-8c1b-656fd2da51d5",
   "metadata": {},
   "source": [
    "## Answer_1"
   ]
  },
  {
   "cell_type": "markdown",
   "id": "4f5a18a0-9481-4cc2-9fdf-f5089cd27f14",
   "metadata": {},
   "source": [
    "'def' keyword is used to create a function."
   ]
  },
  {
   "cell_type": "code",
   "execution_count": 1,
   "id": "da61f6c2-84bb-4fe9-bdfd-d2e4084d052a",
   "metadata": {},
   "outputs": [],
   "source": [
    "def odd():\n",
    "    n=[i for i in range(25) if i%2!=0]\n",
    "    return n"
   ]
  },
  {
   "cell_type": "code",
   "execution_count": 2,
   "id": "dff179c5-3bae-410d-9cd8-0671888b3deb",
   "metadata": {},
   "outputs": [
    {
     "data": {
      "text/plain": [
       "[1, 3, 5, 7, 9, 11, 13, 15, 17, 19, 21, 23]"
      ]
     },
     "execution_count": 2,
     "metadata": {},
     "output_type": "execute_result"
    }
   ],
   "source": [
    "odd()"
   ]
  },
  {
   "cell_type": "markdown",
   "id": "616ecbd2-acbb-4bc3-9ba9-dfd9b710017e",
   "metadata": {},
   "source": [
    "## Answer_2"
   ]
  },
  {
   "cell_type": "markdown",
   "id": "a430b504-1165-4604-abad-47c0f142dd88",
   "metadata": {},
   "source": [
    "By using *args as arguments we can pass as much as attributes we want.\n",
    "If we do not know how many keyword arguments that will be passed into our function, we use **kwargs. This way the function will receive a dictionary of arguments."
   ]
  },
  {
   "cell_type": "code",
   "execution_count": 3,
   "id": "23e0290c-339d-4830-8946-70310b6e57d2",
   "metadata": {},
   "outputs": [],
   "source": [
    "def step(*args):\n",
    "    return args"
   ]
  },
  {
   "cell_type": "code",
   "execution_count": 4,
   "id": "cb2b4068-e90d-4692-a384-8456863aed6d",
   "metadata": {},
   "outputs": [
    {
     "data": {
      "text/plain": [
       "(1, 'a', [1, 2, 3])"
      ]
     },
     "execution_count": 4,
     "metadata": {},
     "output_type": "execute_result"
    }
   ],
   "source": [
    "step(1,'a',[1,2,3])"
   ]
  },
  {
   "cell_type": "code",
   "execution_count": 5,
   "id": "c80afb97-993a-4a84-9537-0595bc285079",
   "metadata": {},
   "outputs": [],
   "source": [
    "def d1(**kwargs):\n",
    "    return kwargs"
   ]
  },
  {
   "cell_type": "code",
   "execution_count": 6,
   "id": "bda86174-a79e-4226-b389-6b104c2283ee",
   "metadata": {},
   "outputs": [
    {
     "data": {
      "text/plain": [
       "{'a': 23, 'b': 2}"
      ]
     },
     "execution_count": 6,
     "metadata": {},
     "output_type": "execute_result"
    }
   ],
   "source": [
    "d1(a=23,b=2)"
   ]
  },
  {
   "cell_type": "markdown",
   "id": "452a296a-b55a-47e7-96b7-c7070cf27072",
   "metadata": {},
   "source": [
    "## Answer_3"
   ]
  },
  {
   "cell_type": "markdown",
   "id": "e2455737-8afa-45a7-bb9d-93a88fe26f05",
   "metadata": {},
   "source": [
    "An iterator is an object that contains a countable number of values and that can be iterated upon, meaning that you can traverse through all the values.Lists, tuples, dictionaries, and sets are all iterable objects. They are iterable containers which you can get an iterator from."
   ]
  },
  {
   "cell_type": "markdown",
   "id": "f488d71b-1926-4b60-803f-66b370a2d79a",
   "metadata": {},
   "source": [
    "The iterator object is initialized using the iter() method. It uses the next() method for iteration."
   ]
  },
  {
   "cell_type": "code",
   "execution_count": 7,
   "id": "347b0542-096b-4434-9a53-83b50dd52a33",
   "metadata": {},
   "outputs": [],
   "source": [
    "lst=[2,4,6,8,10,12,14,16,18,20]"
   ]
  },
  {
   "cell_type": "code",
   "execution_count": 8,
   "id": "09a6990b-00a8-4d01-ba58-779988f6a244",
   "metadata": {},
   "outputs": [],
   "source": [
    "a=iter(lst)"
   ]
  },
  {
   "cell_type": "code",
   "execution_count": 9,
   "id": "9be8aec7-b8b2-44e7-8107-0090aa833fd8",
   "metadata": {},
   "outputs": [
    {
     "name": "stdout",
     "output_type": "stream",
     "text": [
      "2\n",
      "4\n",
      "6\n",
      "8\n",
      "10\n"
     ]
    }
   ],
   "source": [
    "i=0\n",
    "while i<5:\n",
    "    print(next(a))\n",
    "    i=i+1"
   ]
  },
  {
   "cell_type": "markdown",
   "id": "b3c819ac-1d24-45ea-850e-62240a7a5ab6",
   "metadata": {},
   "source": [
    "## Answer_4"
   ]
  },
  {
   "cell_type": "markdown",
   "id": "a2d165fd-0926-4060-8bdf-d9747e8cee63",
   "metadata": {},
   "source": [
    "A generator is a function that returns an iterator that produces a sequence of values when iterated over.\n",
    "Generators are useful when we want to produce a large sequence of values, but we don't want to store all of them in memory at once."
   ]
  },
  {
   "cell_type": "code",
   "execution_count": 51,
   "id": "35fe7933-7c28-407e-9160-e71359d439bc",
   "metadata": {},
   "outputs": [
    {
     "data": {
      "text/plain": [
       "[0, 1, 1, 2, 3, 5, 8, 13, 21, 34]"
      ]
     },
     "execution_count": 51,
     "metadata": {},
     "output_type": "execute_result"
    }
   ],
   "source": [
    "# creating generator func for fibonacci series using while loop\n",
    "def n(m):\n",
    "    i,l,c=0,1,0\n",
    "    while c<m:\n",
    "        yield i\n",
    "        i,l=l,l+i    \n",
    "        c+=1\n",
    "k=n(10)\n",
    "[j for j in k]"
   ]
  },
  {
   "cell_type": "markdown",
   "id": "4cccba40-81c4-4034-a897-40ee350f7a08",
   "metadata": {},
   "source": [
    "## Answer_5"
   ]
  },
  {
   "cell_type": "code",
   "execution_count": 50,
   "id": "cbe47a7c-8a0e-4cc0-9951-68b4bf38d5dd",
   "metadata": {},
   "outputs": [],
   "source": [
    "# Generator func for prime numbers less than 1000(considering 0,1 are not prime numbers)\n",
    "def prime(n):\n",
    "    for i in range(2,n):\n",
    "        for j in range(2,int(i**.5+1)):\n",
    "            if i%j==0:\n",
    "                break\n",
    "        else:\n",
    "            yield i\n",
    "p=prime(1000)"
   ]
  },
  {
   "cell_type": "code",
   "execution_count": 49,
   "id": "cc08b17c-baa8-4b72-abde-ffa75e138362",
   "metadata": {},
   "outputs": [
    {
     "name": "stdout",
     "output_type": "stream",
     "text": [
      "2\n",
      "3\n",
      "5\n",
      "7\n",
      "11\n",
      "13\n",
      "17\n",
      "19\n",
      "23\n",
      "29\n",
      "31\n",
      "37\n",
      "41\n",
      "43\n",
      "47\n",
      "53\n",
      "59\n",
      "61\n",
      "67\n",
      "71\n"
     ]
    }
   ],
   "source": [
    "# printing first 20 prime numbers using next() func\n",
    "c=0\n",
    "while c<20:\n",
    "    print(next(p))\n",
    "    c+=1"
   ]
  },
  {
   "cell_type": "code",
   "execution_count": null,
   "id": "c1811503-d175-48dd-bfd7-68f7d26851bc",
   "metadata": {},
   "outputs": [],
   "source": []
  },
  {
   "cell_type": "code",
   "execution_count": null,
   "id": "27725f1a-4bfa-4a6d-9f3e-1a7325950e09",
   "metadata": {},
   "outputs": [],
   "source": []
  },
  {
   "cell_type": "code",
   "execution_count": null,
   "id": "5760212b-111f-4d3c-a765-3ef7f667f9c1",
   "metadata": {},
   "outputs": [],
   "source": []
  },
  {
   "cell_type": "code",
   "execution_count": null,
   "id": "910f6688-d050-465a-85dc-aaed7da4de4a",
   "metadata": {},
   "outputs": [],
   "source": []
  }
 ],
 "metadata": {
  "kernelspec": {
   "display_name": "Python 3 (ipykernel)",
   "language": "python",
   "name": "python3"
  },
  "language_info": {
   "codemirror_mode": {
    "name": "ipython",
    "version": 3
   },
   "file_extension": ".py",
   "mimetype": "text/x-python",
   "name": "python",
   "nbconvert_exporter": "python",
   "pygments_lexer": "ipython3",
   "version": "3.10.8"
  }
 },
 "nbformat": 4,
 "nbformat_minor": 5
}
