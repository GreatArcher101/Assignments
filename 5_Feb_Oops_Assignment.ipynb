{
 "cells": [
  {
   "cell_type": "markdown",
   "id": "0941cce1-ba85-4e27-94ff-47bbe9df1a86",
   "metadata": {},
   "source": [
    "## Answer_1"
   ]
  },
  {
   "cell_type": "markdown",
   "id": "28907adf-2bdb-4e4b-9a3c-069c3b800685",
   "metadata": {},
   "source": [
    "### Class"
   ]
  },
  {
   "cell_type": "markdown",
   "id": "4e501734-501f-4162-9f87-89590e1589b0",
   "metadata": {},
   "source": [
    "A class is a collection of objects. A class contains the blueprints or the prototype from which the objects are being created. It is a logical entity that contains some attributes and methods. Classes are created by keyword class."
   ]
  },
  {
   "cell_type": "markdown",
   "id": "4de20cf5-7a71-4f7f-907f-5137882a1fd6",
   "metadata": {},
   "source": [
    "If you want to track the number of dogs that may have different attributes like breed, age. If a list is used, the first element could be the dog’s breed while the second element could represent its age. Let’s suppose there are 100 different dogs, then how would you know which element is supposed to be which? What if you wanted to add other properties to these dogs? This lacks organization and it’s the exact need for classes."
   ]
  },
  {
   "cell_type": "markdown",
   "id": "1c5b3e62-34c3-4bc9-b487-d1103d42b47f",
   "metadata": {},
   "source": [
    "### Object"
   ]
  },
  {
   "cell_type": "markdown",
   "id": "c1bfd05b-7893-4779-bcc4-d7e92cad62b3",
   "metadata": {},
   "source": [
    "The object is an instance that has a state, behavior and identity associated with it. It may be any real-world object like a mouse, keyboard etc. Integers, strings, even dictionaries are all objects. More specifically, any single integer or any single string is an object. "
   ]
  },
  {
   "cell_type": "markdown",
   "id": "b6b800ce-847b-4462-aaec-373a175cfd64",
   "metadata": {},
   "source": [
    "When an object of a class is created, the class is said to be instantiated. All the instances share the attributes and the behavior of the class."
   ]
  },
  {
   "cell_type": "markdown",
   "id": "8c74f170-e225-496f-afa6-a52c053de142",
   "metadata": {},
   "source": [
    "### Example"
   ]
  },
  {
   "cell_type": "code",
   "execution_count": 1,
   "id": "bfc85ee0-11c6-4180-b6e3-1db88de85e75",
   "metadata": {},
   "outputs": [
    {
     "data": {
      "text/plain": [
       "'german shepherd'"
      ]
     },
     "execution_count": 1,
     "metadata": {},
     "output_type": "execute_result"
    }
   ],
   "source": [
    "# here class of dog is created, In the class now we can add attributes.\n",
    "class dog:\n",
    "    breed='german shepherd'    #attribute\n",
    "    \n",
    "# object instantiating   \n",
    "dog_name=dog\n",
    "\n",
    "\n",
    "dog_name.breed\n",
    "# Attributes are the variables that belong to a class.\n",
    "# Attributes are always public and can be accessed using the dot (.) operator. Eg.: dog_name(object).breed(attribute)"
   ]
  },
  {
   "cell_type": "markdown",
   "id": "e17addf0-45df-4bdc-a80a-4be4d89b485a",
   "metadata": {},
   "source": [
    "## Answer_2"
   ]
  },
  {
   "cell_type": "markdown",
   "id": "384d1232-4deb-4dcc-a499-a59de608f389",
   "metadata": {},
   "source": [
    "Four pillars of OOPs are \n",
    "Inheritance, \n",
    "Polymorphism, \n",
    "Encapsulation \n",
    "Abstraction."
   ]
  },
  {
   "cell_type": "markdown",
   "id": "a8de5f6b-a05c-4008-af40-8b5cf29032a8",
   "metadata": {},
   "source": [
    "## Answer_3"
   ]
  },
  {
   "cell_type": "markdown",
   "id": "3fbbec89-f30a-4000-89a7-00b55abeae58",
   "metadata": {},
   "source": [
    "The __ init __ function is used to initializing the object’s state. The task of __ init __ is to initialize(assign values) to the data members of the class when an object of the class is created. __ init __ also contains a collection of statements(i.e. instructions) that are executed at the time of Object creation. It is run as soon as an object of a class is instantiated. The method is useful to do any initialization you want to do with your object."
   ]
  },
  {
   "cell_type": "code",
   "execution_count": 2,
   "id": "807c8644-f90b-4393-a5cf-4080c457042a",
   "metadata": {},
   "outputs": [
    {
     "name": "stdin",
     "output_type": "stream",
     "text": [
      "enter the name of employee= raghav\n",
      "enter the salary of employee= 25000\n",
      "enter the age of employee= 20\n",
      "enter the post of employee= HR\n"
     ]
    },
    {
     "name": "stdout",
     "output_type": "stream",
     "text": [
      "Salary of raghav is 25000 at 20 and serving as HR\n"
     ]
    }
   ],
   "source": [
    "class employee:\n",
    "   \n",
    "    def __init__(self,name,salary,age,post):   # __init__ function, initializing the object's state\n",
    "        self.salary=salary\n",
    "        self.age=age\n",
    "        self.post=post\n",
    "        self.nam=name\n",
    "\n",
    "    def details(self):\n",
    "        print('Salary of {} is {} at {} and serving as {}'.format(self.nam,self.salary,self.age,self.post))\n",
    "        \n",
    "# Taking inputs from the user            \n",
    "nam=input('enter the name of employee=')\n",
    "salary=input('enter the salary of employee=')\n",
    "age=input('enter the age of employee=')\n",
    "post=input('enter the post of employee=')\n",
    "\n",
    "# object instantiating\n",
    "details_of_employee=employee(nam,salary,age,post)\n",
    "details_of_employee.details()\n"
   ]
  },
  {
   "cell_type": "markdown",
   "id": "07c703ff-9a76-4a0e-b2d1-53a674c522c6",
   "metadata": {},
   "source": [
    "## Answer_4"
   ]
  },
  {
   "cell_type": "markdown",
   "id": "9c697482-b5c5-40cd-bae2-8ca4788eb1b0",
   "metadata": {},
   "source": [
    "'self' represents the instance of the class. By using the “self”  we can access the attributes and methods of the class in python. It binds the attributes with the given arguments.\n",
    "The reason we use self is because python does not use the @ syntax to refer to instance attributes. Python decide to do methods in a way that makes the instance to which the method belongs be passed automatically, but not received automatically, the first parameter of methods is the instance the method is called on."
   ]
  },
  {
   "cell_type": "markdown",
   "id": "c9b39ab0-ac7f-4439-885e-045575ccb838",
   "metadata": {},
   "source": [
    "## Answer_5"
   ]
  },
  {
   "cell_type": "markdown",
   "id": "8014d4a4-2b1f-4158-98a4-44b70ab49985",
   "metadata": {},
   "source": [
    "Inheritance is the capability of one class to derive or inherit the properties from another class. The class that derives properties is called the derived class or child class and the class from which the properties are being derived is called the base class or parent class."
   ]
  },
  {
   "cell_type": "markdown",
   "id": "76da9e98-23df-42a6-acf5-dd00b23828cd",
   "metadata": {},
   "source": [
    "There are 5 types of inheritance.\n",
    "\n",
    "1. Single\n",
    "\n",
    "2. Multiple\n",
    "\n",
    "3. Multi-level\n",
    "\n",
    "4. Hierarchical\n",
    "\n",
    "5. Hybrid"
   ]
  },
  {
   "cell_type": "code",
   "execution_count": 3,
   "id": "21678493-46f1-4c5f-a899-e951b47095b9",
   "metadata": {},
   "outputs": [
    {
     "name": "stdout",
     "output_type": "stream",
     "text": [
      "feature1 works\n"
     ]
    }
   ],
   "source": [
    "# single inheritance\n",
    "\n",
    "# parent class or super class\n",
    "class i:\n",
    "    def feature1(self):             \n",
    "        print(\"feature1 works\")\n",
    "        \n",
    "    def feature2(self):\n",
    "        print(\"feature2 works\")\n",
    "   \n",
    " #child class or sub class, as features of class i has in class j   \n",
    "class j(i):\n",
    "    def feature3(self):\n",
    "        print(\"feature3 works\")\n",
    "        \n",
    "    def feature4(self):\n",
    "        print(\"feature4 works\")\n",
    "        \n",
    " #object assigning to child class\n",
    "a=j()\n",
    "\n",
    " #calling feature of parent class by object of child class\n",
    "a.feature1()"
   ]
  },
  {
   "cell_type": "code",
   "execution_count": 4,
   "id": "9cca1aa9-cc91-4e1f-81e0-94171223726a",
   "metadata": {},
   "outputs": [
    {
     "name": "stdout",
     "output_type": "stream",
     "text": [
      "feature1 works\n",
      "feature2 works\n"
     ]
    }
   ],
   "source": [
    "# multi-level inheritance\n",
    "\n",
    "# base class\n",
    "class i:\n",
    "    def feature1(self):             \n",
    "        print(\"feature1 works\")\n",
    "        \n",
    "      \n",
    " #intermediate class, as features of class i has in class j   \n",
    "class j(i):\n",
    "    def feature2(self):\n",
    "        print(\"feature2 works\")\n",
    "        \n",
    " ##derived class, as features of class i and class j has in class k\n",
    "class k(j):\n",
    "    def feature3(self):\n",
    "        print(\"feature3 works\")\n",
    "        \n",
    " #object assigning to derived class\n",
    "a=k()\n",
    "\n",
    " #calling feature of both the classes intermediate class & base class\n",
    "a.feature1()\n",
    "a.feature2()"
   ]
  },
  {
   "cell_type": "code",
   "execution_count": 5,
   "id": "ae1459aa-4110-492a-b82d-75d8dc60df4b",
   "metadata": {},
   "outputs": [
    {
     "name": "stdout",
     "output_type": "stream",
     "text": [
      "feature2 works\n",
      "feature1 works\n",
      "feature2 works\n"
     ]
    }
   ],
   "source": [
    "# multiple inheritance\n",
    "\n",
    "# base class 1\n",
    "class i:\n",
    "    def feature1(self):             \n",
    "        print(\"feature1 works\")\n",
    "        \n",
    "      \n",
    " #base class 2 \n",
    "class j:\n",
    "    def feature2(self):\n",
    "        print(\"feature2 works\")\n",
    "        \n",
    " ##derived class, as features of class i and class j has in class k\n",
    "class k(i,j):\n",
    "    def feature3(self):\n",
    "        print(\"feature3 works\")\n",
    "        \n",
    " #object assigning\n",
    "a=j()\n",
    "b=k()\n",
    " #calling func\n",
    "a.feature2()   # object of base 2 class can only invoke its own fucn\n",
    "b.feature1()    # object of derived class can invoke fuc from both the base classes\n",
    "b.feature2()"
   ]
  },
  {
   "cell_type": "code",
   "execution_count": 6,
   "id": "91cf389f-4677-47b5-9087-aa7979c2e0b9",
   "metadata": {},
   "outputs": [
    {
     "name": "stdout",
     "output_type": "stream",
     "text": [
      "feature1 works\n",
      "feature1 works\n"
     ]
    }
   ],
   "source": [
    "# hierarchical inheritance\n",
    "\n",
    "# base class\n",
    "class i:\n",
    "    def feature1(self):             \n",
    "        print(\"feature1 works\")\n",
    "        \n",
    "      \n",
    " #derived class 1\n",
    "class j(i):\n",
    "    def feature2(self):\n",
    "        print(\"feature2 works\")\n",
    "        \n",
    " ##derived class 2\n",
    "class k(i):\n",
    "    def feature3(self):\n",
    "        print(\"feature3 works\")\n",
    "        \n",
    " #object assigning\n",
    "a=j()\n",
    "b=k()\n",
    " #calling func\n",
    "a.feature1()   # object of derived class 1 can invoke base class func\n",
    "b.feature1()   # object of derived class 2 can invoke base class func\n"
   ]
  },
  {
   "cell_type": "code",
   "execution_count": 8,
   "id": "c6e3240a-e6e0-4fbd-995e-9bb31b1127f0",
   "metadata": {},
   "outputs": [
    {
     "name": "stdout",
     "output_type": "stream",
     "text": [
      "feature1 works\n",
      "feature1 works\n",
      "feature1 works\n",
      "feature2 works\n",
      "feature3 works\n"
     ]
    }
   ],
   "source": [
    "# hybrid inheritance\n",
    "\n",
    "# parent class\n",
    "class i:\n",
    "    def feature1(self):             \n",
    "        print(\"feature1 works\")\n",
    "        \n",
    "      \n",
    " #child class 1\n",
    "class j(i):\n",
    "    def feature2(self):\n",
    "        print(\"feature2 works\")\n",
    "        \n",
    " ##child class 2\n",
    "class k(i):\n",
    "    def feature3(self):\n",
    "        print(\"feature3 works\")\n",
    "# child class 3     \n",
    "class l(j,k):\n",
    "    def feature4(self):\n",
    "        print(\"feature4 works\")\n",
    "        \n",
    " #object assigning\n",
    "a=j()\n",
    "b=k()\n",
    "c=l()\n",
    " #calling func\n",
    "a.feature1()   # object of child class 1 can only invoke base class func\n",
    "b.feature1()   # object of child class 2 can only invoke base class func\n",
    "c.feature1()   # object of child class 3 can invoke base class func\n",
    "c.feature2()    # object of child class 3 can invoke clid class 1 func\n",
    "c.feature3()    # object of child class 3 can invoke base class 2 func\n"
   ]
  },
  {
   "cell_type": "code",
   "execution_count": null,
   "id": "dc25747d-a4fe-4a0d-bc56-457c9d303d45",
   "metadata": {},
   "outputs": [],
   "source": []
  }
 ],
 "metadata": {
  "kernelspec": {
   "display_name": "Python 3 (ipykernel)",
   "language": "python",
   "name": "python3"
  },
  "language_info": {
   "codemirror_mode": {
    "name": "ipython",
    "version": 3
   },
   "file_extension": ".py",
   "mimetype": "text/x-python",
   "name": "python",
   "nbconvert_exporter": "python",
   "pygments_lexer": "ipython3",
   "version": "3.10.8"
  }
 },
 "nbformat": 4,
 "nbformat_minor": 5
}
