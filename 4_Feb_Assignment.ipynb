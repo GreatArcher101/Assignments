{
 "cells": [
  {
   "cell_type": "markdown",
   "id": "4bde1495-c140-43cb-bcc9-add2e0683d53",
   "metadata": {},
   "source": [
    "## Answer 1"
   ]
  },
  {
   "cell_type": "code",
   "execution_count": 21,
   "id": "ce6da018-389a-463c-9348-bb156ccd5e68",
   "metadata": {},
   "outputs": [],
   "source": [
    "lst=[('Sachin Tendulkar', 34357), ('Ricky Ponting', 27483), ('Jack Kallis', 25534), ('Virat Kohli', 24936)]"
   ]
  },
  {
   "cell_type": "code",
   "execution_count": 40,
   "id": "b1fe0d84-c520-4f61-9b2c-c787e2a96b2f",
   "metadata": {},
   "outputs": [
    {
     "data": {
      "text/plain": [
       "[34357, 27483, 25534, 24936]"
      ]
     },
     "execution_count": 40,
     "metadata": {},
     "output_type": "execute_result"
    }
   ],
   "source": [
    "list(map(lambda a: a[1],lst))"
   ]
  },
  {
   "cell_type": "markdown",
   "id": "cc452a68-a059-4043-9a58-707b41927e72",
   "metadata": {},
   "source": [
    "## Answer 2"
   ]
  },
  {
   "cell_type": "code",
   "execution_count": 19,
   "id": "166ed117-12e9-4c87-b142-8cfbae8d72f1",
   "metadata": {},
   "outputs": [],
   "source": [
    "lst1=[1, 2, 3, 4, 5, 6, 7, 8, 9, 10]"
   ]
  },
  {
   "cell_type": "code",
   "execution_count": 20,
   "id": "164b8991-9a0b-4a8c-9631-50472889df03",
   "metadata": {},
   "outputs": [
    {
     "data": {
      "text/plain": [
       "[1, 4, 9, 16, 25, 36, 49, 64, 81, 100]"
      ]
     },
     "execution_count": 20,
     "metadata": {},
     "output_type": "execute_result"
    }
   ],
   "source": [
    "list(map(lambda x : x**2,lst1))"
   ]
  },
  {
   "cell_type": "markdown",
   "id": "56286282-bf5f-4e1d-9b1b-a00ebd5a072e",
   "metadata": {},
   "source": [
    "## Answer 3"
   ]
  },
  {
   "cell_type": "code",
   "execution_count": 5,
   "id": "89f8f651-c1e4-47cb-afd4-b4bc2767878e",
   "metadata": {},
   "outputs": [],
   "source": [
    "lst2= [1, 2, 3, 4, 5, 6, 7, 8, 9, 10]"
   ]
  },
  {
   "cell_type": "code",
   "execution_count": 6,
   "id": "aec4a10d-d49e-4953-b14d-a306da290b1d",
   "metadata": {},
   "outputs": [
    {
     "data": {
      "text/plain": [
       "('1', '2', '3', '4', '5', '6', '7', '8', '9', '10')"
      ]
     },
     "execution_count": 6,
     "metadata": {},
     "output_type": "execute_result"
    }
   ],
   "source": [
    "tuple(map(lambda x : str(x),lst2))"
   ]
  },
  {
   "cell_type": "markdown",
   "id": "29b1fea3-4b6d-48b3-b57b-bb588c7c5131",
   "metadata": {},
   "source": [
    "## Answer 4"
   ]
  },
  {
   "cell_type": "code",
   "execution_count": 14,
   "id": "2561bcdb-66cb-48cd-8303-2e5d7ce80cfd",
   "metadata": {},
   "outputs": [],
   "source": [
    "lst3=[i for i in range(1,26)]"
   ]
  },
  {
   "cell_type": "code",
   "execution_count": 10,
   "id": "25bb347c-46ff-4ac4-9cfc-1025c649f8d6",
   "metadata": {},
   "outputs": [],
   "source": [
    "from functools import reduce"
   ]
  },
  {
   "cell_type": "code",
   "execution_count": 15,
   "id": "8d9e502d-58ba-4250-825f-4ca0792ebe62",
   "metadata": {},
   "outputs": [
    {
     "data": {
      "text/plain": [
       "15511210043330985984000000"
      ]
     },
     "execution_count": 15,
     "metadata": {},
     "output_type": "execute_result"
    }
   ],
   "source": [
    "reduce(lambda x,y : x*y , lst3 )"
   ]
  },
  {
   "cell_type": "markdown",
   "id": "a82eb707-3b48-4099-b017-4007733bbf43",
   "metadata": {},
   "source": [
    "## Answer 5"
   ]
  },
  {
   "cell_type": "code",
   "execution_count": 1,
   "id": "ac12798f-bba9-46dc-92ad-875d5ab044b8",
   "metadata": {},
   "outputs": [],
   "source": [
    "lst4= [2, 3, 6, 9, 27, 60, 90, 120, 55, 46]"
   ]
  },
  {
   "cell_type": "code",
   "execution_count": 4,
   "id": "216815b5-a4ab-4858-9cca-7a97c5d6ed74",
   "metadata": {},
   "outputs": [
    {
     "data": {
      "text/plain": [
       "[6, 60, 90, 120]"
      ]
     },
     "execution_count": 4,
     "metadata": {},
     "output_type": "execute_result"
    }
   ],
   "source": [
    "list(filter(lambda n : n%2==0 and n%3==0,lst4))"
   ]
  },
  {
   "cell_type": "markdown",
   "id": "fe366429-9efe-4796-b6f1-a40ec6fff95d",
   "metadata": {},
   "source": [
    "## Answer 6"
   ]
  },
  {
   "cell_type": "code",
   "execution_count": 5,
   "id": "bc7510f7-f664-4ea4-a291-3703394f0af4",
   "metadata": {},
   "outputs": [],
   "source": [
    "lst5=['python', 'php', 'aba', 'radar', 'level']"
   ]
  },
  {
   "cell_type": "code",
   "execution_count": 18,
   "id": "cafe8091-9163-46fa-b25c-fceb365b4563",
   "metadata": {},
   "outputs": [
    {
     "data": {
      "text/plain": [
       "['php', 'aba', 'radar', 'level']"
      ]
     },
     "execution_count": 18,
     "metadata": {},
     "output_type": "execute_result"
    }
   ],
   "source": [
    "list(filter(lambda x : x==x[::-1],lst5))"
   ]
  },
  {
   "cell_type": "code",
   "execution_count": null,
   "id": "df18a140-af87-40a6-87f4-03bc5cd7cf3d",
   "metadata": {},
   "outputs": [],
   "source": []
  },
  {
   "cell_type": "code",
   "execution_count": null,
   "id": "e4393074-a411-4167-a1d4-11357fc69199",
   "metadata": {},
   "outputs": [],
   "source": []
  },
  {
   "cell_type": "code",
   "execution_count": null,
   "id": "1a1e2120-8758-4580-9809-ad950cd723fb",
   "metadata": {},
   "outputs": [],
   "source": []
  },
  {
   "cell_type": "code",
   "execution_count": null,
   "id": "a7c49b38-3a8e-438b-af4e-4ec664372def",
   "metadata": {},
   "outputs": [],
   "source": []
  },
  {
   "cell_type": "code",
   "execution_count": null,
   "id": "fecdf420-0dca-4507-b50c-6ca2f5308995",
   "metadata": {},
   "outputs": [],
   "source": []
  }
 ],
 "metadata": {
  "kernelspec": {
   "display_name": "Python 3 (ipykernel)",
   "language": "python",
   "name": "python3"
  },
  "language_info": {
   "codemirror_mode": {
    "name": "ipython",
    "version": 3
   },
   "file_extension": ".py",
   "mimetype": "text/x-python",
   "name": "python",
   "nbconvert_exporter": "python",
   "pygments_lexer": "ipython3",
   "version": "3.10.8"
  }
 },
 "nbformat": 4,
 "nbformat_minor": 5
}
